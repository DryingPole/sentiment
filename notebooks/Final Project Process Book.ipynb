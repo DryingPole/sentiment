{
 "metadata": {
  "name": "",
  "signature": "sha256:c295f6361cb43fe2beecf9e6556a0174fc60d63cb20b5636c15fdad8408e93bc"
 },
 "nbformat": 3,
 "nbformat_minor": 0,
 "worksheets": [
  {
   "cells": [
    {
     "cell_type": "markdown",
     "metadata": {},
     "source": [
      "#Sentiment Analysis On Movie Reviews#\n",
      "*by Lucas Hure and Ian Smith*\n",
      "\n",
      "\n",
      "##Overview##\n",
      "####An exploration of the application of machine learning techniques to the sentiment analysis of movie review.####\n",
      "Kaggle competition:\n",
      "http://www.kaggle.com/c/sentiment-analysis-on-movie-reviews"
     ]
    },
    {
     "cell_type": "code",
     "collapsed": false,
     "input": [
      "# special IPython command to prepare the notebook for matplotlib\n",
      "%matplotlib inline \n",
      "%load_ext autoreload\n",
      "%autoreload 2\n",
      "\n",
      "# load required modules\n",
      "import requests \n",
      "import StringIO\n",
      "import zipfile\n",
      "import numpy as np\n",
      "import pandas as pd \n",
      "import matplotlib.pyplot as plt \n",
      "import datetime as dt \n",
      "import random\n",
      "import collections\n",
      "import re\n",
      "\n",
      "import seaborn as sns\n",
      "\n",
      "# load custom modules\n",
      "import imp\n",
      "source_path = '../sentiment/'\n",
      "core = imp.load_source('core', source_path + 'core.py')\n",
      "bow = imp.load_source('bow', source_path + 'bow.py')\n",
      "bayes = imp.load_source('bayes', source_path + 'bayes.py')\n",
      "None"
     ],
     "language": "python",
     "metadata": {},
     "outputs": [
      {
       "output_type": "stream",
       "stream": "stdout",
       "text": [
        "The autoreload extension is already loaded. To reload it, use:\n",
        "  %reload_ext autoreload\n"
       ]
      }
     ],
     "prompt_number": 2
    },
    {
     "cell_type": "markdown",
     "metadata": {},
     "source": [
      "###Hands On: Exploring the Data Set###\n"
     ]
    },
    {
     "cell_type": "code",
     "collapsed": false,
     "input": [
      "# use 'load_reviews' to load the data set into a data frame. This will \"normalize\" the \n",
      "# headings and make all phrases lower case. \n",
      "phrases = core.load_reviews('../resources/train.tsv')\n",
      "phrases.head()"
     ],
     "language": "python",
     "metadata": {},
     "outputs": [
      {
       "html": [
        "<div style=\"max-height:1000px;max-width:1500px;overflow:auto;\">\n",
        "<table border=\"1\" class=\"dataframe\">\n",
        "  <thead>\n",
        "    <tr style=\"text-align: right;\">\n",
        "      <th></th>\n",
        "      <th>phraseid</th>\n",
        "      <th>sentenceid</th>\n",
        "      <th>phrase</th>\n",
        "      <th>sentiment</th>\n",
        "    </tr>\n",
        "  </thead>\n",
        "  <tbody>\n",
        "    <tr>\n",
        "      <th>0</th>\n",
        "      <td> 1</td>\n",
        "      <td> 1</td>\n",
        "      <td> a series of escapades demonstrating the adage ...</td>\n",
        "      <td> 1</td>\n",
        "    </tr>\n",
        "    <tr>\n",
        "      <th>1</th>\n",
        "      <td> 2</td>\n",
        "      <td> 1</td>\n",
        "      <td> a series of escapades demonstrating the adage ...</td>\n",
        "      <td> 2</td>\n",
        "    </tr>\n",
        "    <tr>\n",
        "      <th>2</th>\n",
        "      <td> 3</td>\n",
        "      <td> 1</td>\n",
        "      <td>                                          a series</td>\n",
        "      <td> 2</td>\n",
        "    </tr>\n",
        "    <tr>\n",
        "      <th>3</th>\n",
        "      <td> 4</td>\n",
        "      <td> 1</td>\n",
        "      <td>                                                 a</td>\n",
        "      <td> 2</td>\n",
        "    </tr>\n",
        "    <tr>\n",
        "      <th>4</th>\n",
        "      <td> 5</td>\n",
        "      <td> 1</td>\n",
        "      <td>                                            series</td>\n",
        "      <td> 2</td>\n",
        "    </tr>\n",
        "  </tbody>\n",
        "</table>\n",
        "</div>"
       ],
       "metadata": {},
       "output_type": "pyout",
       "prompt_number": 3,
       "text": [
        "   phraseid  sentenceid                                             phrase  \\\n",
        "0         1           1  a series of escapades demonstrating the adage ...   \n",
        "1         2           1  a series of escapades demonstrating the adage ...   \n",
        "2         3           1                                           a series   \n",
        "3         4           1                                                  a   \n",
        "4         5           1                                             series   \n",
        "\n",
        "   sentiment  \n",
        "0          1  \n",
        "1          2  \n",
        "2          2  \n",
        "3          2  \n",
        "4          2  "
       ]
      }
     ],
     "prompt_number": 3
    },
    {
     "cell_type": "code",
     "collapsed": false,
     "input": [
      "# Data Exploration -- capture some features of each phrase\n",
      "pe = phrases.copy()\n",
      "pe['word_list'] = pe.phrase.str.split()\n",
      "pe['contain_neg'] = map(lambda l: \"not\" in l or \"n't\" in l or \"neither\" in l or \"but\" in l, pe.word_list)\n",
      "pe['word_count'] = map(len, pe.word_list)\n",
      "pe.head()"
     ],
     "language": "python",
     "metadata": {},
     "outputs": [
      {
       "html": [
        "<div style=\"max-height:1000px;max-width:1500px;overflow:auto;\">\n",
        "<table border=\"1\" class=\"dataframe\">\n",
        "  <thead>\n",
        "    <tr style=\"text-align: right;\">\n",
        "      <th></th>\n",
        "      <th>phraseid</th>\n",
        "      <th>sentenceid</th>\n",
        "      <th>phrase</th>\n",
        "      <th>sentiment</th>\n",
        "      <th>word_list</th>\n",
        "      <th>contain_neg</th>\n",
        "      <th>word_count</th>\n",
        "    </tr>\n",
        "  </thead>\n",
        "  <tbody>\n",
        "    <tr>\n",
        "      <th>0</th>\n",
        "      <td> 1</td>\n",
        "      <td> 1</td>\n",
        "      <td> a series of escapades demonstrating the adage ...</td>\n",
        "      <td> 1</td>\n",
        "      <td> [a, series, of, escapades, demonstrating, the,...</td>\n",
        "      <td>  True</td>\n",
        "      <td> 37</td>\n",
        "    </tr>\n",
        "    <tr>\n",
        "      <th>1</th>\n",
        "      <td> 2</td>\n",
        "      <td> 1</td>\n",
        "      <td> a series of escapades demonstrating the adage ...</td>\n",
        "      <td> 2</td>\n",
        "      <td> [a, series, of, escapades, demonstrating, the,...</td>\n",
        "      <td> False</td>\n",
        "      <td> 14</td>\n",
        "    </tr>\n",
        "    <tr>\n",
        "      <th>2</th>\n",
        "      <td> 3</td>\n",
        "      <td> 1</td>\n",
        "      <td>                                          a series</td>\n",
        "      <td> 2</td>\n",
        "      <td>                                       [a, series]</td>\n",
        "      <td> False</td>\n",
        "      <td>  2</td>\n",
        "    </tr>\n",
        "    <tr>\n",
        "      <th>3</th>\n",
        "      <td> 4</td>\n",
        "      <td> 1</td>\n",
        "      <td>                                                 a</td>\n",
        "      <td> 2</td>\n",
        "      <td>                                               [a]</td>\n",
        "      <td> False</td>\n",
        "      <td>  1</td>\n",
        "    </tr>\n",
        "    <tr>\n",
        "      <th>4</th>\n",
        "      <td> 5</td>\n",
        "      <td> 1</td>\n",
        "      <td>                                            series</td>\n",
        "      <td> 2</td>\n",
        "      <td>                                          [series]</td>\n",
        "      <td> False</td>\n",
        "      <td>  1</td>\n",
        "    </tr>\n",
        "  </tbody>\n",
        "</table>\n",
        "</div>"
       ],
       "metadata": {},
       "output_type": "pyout",
       "prompt_number": 4,
       "text": [
        "   phraseid  sentenceid                                             phrase  \\\n",
        "0         1           1  a series of escapades demonstrating the adage ...   \n",
        "1         2           1  a series of escapades demonstrating the adage ...   \n",
        "2         3           1                                           a series   \n",
        "3         4           1                                                  a   \n",
        "4         5           1                                             series   \n",
        "\n",
        "   sentiment                                          word_list contain_neg  \\\n",
        "0          1  [a, series, of, escapades, demonstrating, the,...        True   \n",
        "1          2  [a, series, of, escapades, demonstrating, the,...       False   \n",
        "2          2                                        [a, series]       False   \n",
        "3          2                                                [a]       False   \n",
        "4          2                                           [series]       False   \n",
        "\n",
        "   word_count  \n",
        "0          37  \n",
        "1          14  \n",
        "2           2  \n",
        "3           1  \n",
        "4           1  "
       ]
      }
     ],
     "prompt_number": 4
    },
    {
     "cell_type": "code",
     "collapsed": false,
     "input": [
      "# Analyze phrase sentiment as related to the appearance of the word \"not\" \n",
      "neg_counts = pe.groupby([\"sentiment\",\"contain_neg\"]).size().to_frame(\"neg_count\").reset_index()\n",
      "print neg_counts"
     ],
     "language": "python",
     "metadata": {},
     "outputs": [
      {
       "output_type": "stream",
       "stream": "stdout",
       "text": [
        "   sentiment contain_neg  neg_count\n",
        "0          0       False       6222\n",
        "1          0        True        850\n",
        "2          1       False      23669\n",
        "3          1        True       3604\n",
        "4          2       False      75544\n",
        "5          2        True       4038\n",
        "6          3       False      30665\n",
        "7          3        True       2262\n",
        "8          4       False       8712\n",
        "9          4        True        494\n"
       ]
      }
     ],
     "prompt_number": 30
    },
    {
     "cell_type": "code",
     "collapsed": false,
     "input": [
      "# plt.subplot\n",
      "# plt.title(\"\")\n",
      "# plt.figure(figsize=(10,10))\n",
      "neg_counts.drop(['contain_neg'],axis=1).plot(kind='bar', x='sentiment')\n"
     ],
     "language": "python",
     "metadata": {},
     "outputs": [
      {
       "metadata": {},
       "output_type": "pyout",
       "prompt_number": 11,
       "text": [
        "<matplotlib.axes.AxesSubplot at 0x112ed8cd0>"
       ]
      },
      {
       "metadata": {},
       "output_type": "display_data",
       "png": "[encoded data removed]",
       "text": [
        "<matplotlib.figure.Figure at 0x11364e490>"
       ]
      }
     ],
     "prompt_number": 11
    },
    {
     "cell_type": "code",
     "collapsed": false,
     "input": [
      "# Determine the max word count\n",
      "print max(pe.word_count)\n",
      "\n",
      "def filter_by_wc(wc):\n",
      "    return pe[['sentiment']][pe.word_count <= wc].sentiment.tolist()\n",
      "\n",
      "bins = [filter_by_wc(x) for x in np.arange(10,60,10)]\n",
      "\n",
      "plt.figure(figsize=(14,14))\n",
      "sns.violinplot(bins)\n"
     ],
     "language": "python",
     "metadata": {},
     "outputs": [
      {
       "output_type": "stream",
       "stream": "stdout",
       "text": [
        "52\n"
       ]
      },
      {
       "metadata": {},
       "output_type": "pyout",
       "prompt_number": 12,
       "text": [
        "<matplotlib.axes.AxesSubplot at 0x11319a650>"
       ]
      },
      {
       "metadata": {},
       "output_type": "display_data",
       "png": "[encoded data removed]",
       "text": [
        "<matplotlib.figure.Figure at 0x112f47e10>"
       ]
      }
     ],
     "prompt_number": 12
    },
    {
     "cell_type": "markdown",
     "metadata": {},
     "source": [
      "####Exploring Sentence Coherence###"
     ]
    },
    {
     "cell_type": "code",
     "collapsed": false,
     "input": [
      "pe.head()\n",
      "# s_coherence = pe.groupby(['sentenceid', 'sentiment']).count()\n",
      "ss = pe.groupby(['sentenceid', 'sentiment']).apply(lambda x: x.shape[0])\n",
      "# print s_coherence.head()\n",
      "print ss.to_frame('counts')\n",
      "# print type(ss)"
     ],
     "language": "python",
     "metadata": {},
     "outputs": [
      {
       "output_type": "stream",
       "stream": "stdout",
       "text": [
        "                      counts\n",
        "sentenceid sentiment        \n",
        "1          1               4\n",
        "           2              56\n",
        "           3               3\n",
        "2          2               8\n",
        "           3               6\n",
        "           4               4\n",
        "3          0               2\n",
        "           1               7\n",
        "           2              25\n",
        "           3               1\n",
        "4          1               9\n",
        "           2              19\n",
        "           3               9\n",
        "           4               3\n",
        "5          0               2\n",
        "           1               4\n",
        "           2               4\n",
        "6          1               1\n",
        "           2              18\n",
        "           3               7\n",
        "           4               6\n",
        "7          0               3\n",
        "           1               7\n",
        "           2               5\n",
        "8          2              26\n",
        "           3               8\n",
        "9          1               6\n",
        "           2               6\n",
        "10         0               3\n",
        "           1               3\n",
        "...                      ...\n",
        "8534       1               2\n",
        "8535       1               3\n",
        "8536       1               4\n",
        "           2              10\n",
        "           3               2\n",
        "8537       0               2\n",
        "           1               3\n",
        "           2               7\n",
        "           3               6\n",
        "           4               1\n",
        "8538       3              12\n",
        "           4               2\n",
        "8539       0               6\n",
        "           1               9\n",
        "           2               5\n",
        "           3               1\n",
        "8540       1               6\n",
        "           2               7\n",
        "8541       1               2\n",
        "           2              12\n",
        "           3               8\n",
        "           4               2\n",
        "8542       1               5\n",
        "           2               4\n",
        "           3               1\n",
        "8543       1               5\n",
        "           2               3\n",
        "8544       1               4\n",
        "           2              15\n",
        "           3               2\n",
        "\n",
        "[26547 rows x 1 columns]\n"
       ]
      }
     ],
     "prompt_number": 26
    },
    {
     "cell_type": "markdown",
     "metadata": {},
     "source": [
      "###Conclusions from Data Exploration###\n",
      "We found it difficult to extract meaningful features from the data set using elementary analysis. Some of our initial assumptions about the data proved not to hold: the number of words in a review appear not to have any bearing on its overall sentiment; the appearance of \"negating\" terms (such as \"not\", \"neither\", etc.) are more strongly correlated with neutral and negative ratings than positive ratings, but the overall proportion of phrases in the data set containing negating terms is quite low, suggesting that this would be a difficult feature to exploit. \n",
      "\n",
      "##Models##\n",
      "###An Initial Approach to Sentiment Analysis: the \"Bag of Words\" Model###\n",
      "Our first model will be based on the Bag Of Words approach. One challenge particular to our project that will likely be present in all of the models we develop, is that we are trying to classify reviews on an integer scale from 0 to 4, not just as \"positive\" or \"negative\".\n",
      "Since corpora are typically graded binarily as described above and also depending on context, we will have to develop our own dictionary.\n",
      "Also, since our scale is more granular, a simple BoW approach whereby we vectorize phrases based on word count will not work.\n",
      "\n",
      "Our first try with this method will consist of building a dictionary of single words with their associated rating from 0 to 4.\n",
      "We will use both the training dataset provided by Kaggle as well as the training dataset used by the Stanford team, also from Rotten Tomatoes reviews but different ones.\n",
      "When confronted to a new review, our model will add up the values of the grades of the words present in its dictionary, and compute the mean (try geometric mean?) of the total value for that phrase.\n",
      "\n",
      "One problem we will run into is that some phrases in the test dataset or in any review not present in our two training datasets might contain words not in our dictionary, or even not have any words present in our dictionary.\n",
      "For now, we will assign a random rating to phrases for which we have no rated words whatsoever, and just compute the mean of the words we have in our dictionary for sentences in which we don't have all the words in our dictionary.\n"
     ]
    },
    {
     "cell_type": "code",
     "collapsed": false,
     "input": [
      "# use the one-word phrases as a training set for the BoW model. Split the data set into training data - one-word phrases -\n",
      "# and test data - all other phrases\n",
      "single_word = r'\\A[\\w-]+\\Z'\n",
      "\n",
      "train = phrases[phrases.phrase.str.match(single_word)][['phrase', 'sentiment']]\n",
      "X_train, Y_train = train.phrase.tolist(), train.sentiment.tolist()\n",
      "\n",
      "test = phrases[map(lambda x: not x, phrases.phrase.str.match(single_word))][['phrase', 'sentiment']]\n",
      "X_test, Y_test = test.phrase, test.sentiment\n",
      "\n",
      "print \"Training Set:\"\n",
      "print train.head(5)\n",
      "print \"\\nTest Set:\"\n",
      "print test.head(5)"
     ],
     "language": "python",
     "metadata": {},
     "outputs": [
      {
       "output_type": "stream",
       "stream": "stdout",
       "text": [
        "Training Set:\n",
        "           phrase  sentiment\n",
        "3               a          2\n",
        "4          series          2\n",
        "6              of          2\n",
        "8       escapades          2\n",
        "11  demonstrating          2\n",
        "\n",
        "Test Set:\n",
        "                                              phrase  sentiment\n",
        "0  a series of escapades demonstrating the adage ...          1\n",
        "1  a series of escapades demonstrating the adage ...          2\n",
        "2                                           a series          2\n",
        "5  of escapades demonstrating the adage that what...          2\n",
        "7  escapades demonstrating the adage that what is...          2\n"
       ]
      }
     ],
     "prompt_number": 6
    },
    {
     "cell_type": "code",
     "collapsed": false,
     "input": [
      "# Train the model to predict sentiments for the test data\n",
      "weight_map={0: 5,\n",
      "            1: 3, \n",
      "            2: 1, \n",
      "            3: 3, \n",
      "            4: 5}\n",
      "bow_model = bow.BagOfWordsModel()\n",
      "mm_bow_model = bow.BagOfWordsModel(mapper=bow.MovieMapper(-0.1))\n",
      "\n",
      "bow_model.fit(X_train, Y_train)\n",
      "mm_bow_model.fit(X_train, Y_train)\n",
      "Y = bow_model.predict(X_test, weight_map=weight_map)\n",
      "Y_alt = mm_bow_model.predict(X_test, weight_map=weight_map)"
     ],
     "language": "python",
     "metadata": {},
     "outputs": [],
     "prompt_number": 7
    },
    {
     "cell_type": "code",
     "collapsed": false,
     "input": [
      "# def find_word(n):\n",
      "#     s = bow_model.model[n] if n in bow_model.model else None\n",
      "#     return (n , s if s else None)\n",
      "\n",
      "# for w in [\"n'\", \"not\", \"'t\", \" 't\", \"n't\"]:\n",
      "#     print find_word(w)\n",
      "    \n",
      "# \"asdf ca n't asdfa\".split()\n",
      "\n",
      "# print bow_model.model[\"ca\"]"
     ],
     "language": "python",
     "metadata": {},
     "outputs": [],
     "prompt_number": 8
    },
    {
     "cell_type": "markdown",
     "metadata": {},
     "source": [
      "**Step 2**: Write a function that takes a dataframe of reviews and gives them a sentiment rating.\n",
      "Also write a function to check the ratings to in order to test our algorithm on the training data."
     ]
    },
    {
     "cell_type": "code",
     "collapsed": false,
     "input": [
      "# Create a data frame of the expected vs. predicted sentiments. Count each predicted,expected pair and plot\n",
      "res_df = pd.DataFrame(data=np.transpose([Y, Y_test.tolist(), [1]*len(Y)]), columns=[\"predicted\", \"expected\", \"counts\"])\n",
      "res_stats = res_df.groupby([\"predicted\", \"expected\"]).count().reset_index()\n",
      "\n",
      "res_dfa = pd.DataFrame(data=np.transpose([Y_alt, Y_test.tolist(), [1]*len(Y)]), columns=[\"predicted\", \"expected\", \"counts\"])\n",
      "res_statsa = res_dfa.groupby([\"predicted\", \"expected\"]).count().reset_index()\n",
      "\n",
      "print res_stats\n",
      "print \"Accuracy: \", sum(res_stats[res_stats.predicted == res_stats.expected].counts) / float(sum(res_stats.counts))\n",
      "print \"Accuracy (Mapped): \", sum(res_statsa[res_statsa.predicted == res_statsa.expected].counts) / float(sum(res_statsa.counts))\n",
      "\n",
      "# plt.figure(figsize=(12,8))\n",
      "# plt.title(\"Predicted vs. Expected Sentiment Values\")\n",
      "# plt.ylabel(\"Predicted Sentiment\")\n",
      "# plt.xlabel(\"Expected Sentiment\")\n",
      "# plt.scatter(res_stats.expected, res_stats.predicted, s=[0.1*c for c in res_stats.counts], alpha=0.6)\n",
      "# plt.show()"
     ],
     "language": "python",
     "metadata": {},
     "outputs": [
      {
       "output_type": "stream",
       "stream": "stdout",
       "text": [
        "    predicted  expected  counts\n",
        "0           0         0     246\n",
        "1           0         1     376\n",
        "2           0         2     123\n",
        "3           0         3      13\n",
        "4           1         0    2052\n",
        "5           1         1    5271\n",
        "6           1         2    4592\n",
        "7           1         3     537\n",
        "8           1         4      27\n",
        "9           2         0    4370\n",
        "10          2         1   18182\n",
        "11          2         2   54412\n",
        "12          2         3   18643\n",
        "13          2         4    3675\n",
        "14          3         0     206\n",
        "15          3         1    1508\n",
        "16          3         2    8040\n",
        "17          3         3   10898\n",
        "18          3         4    4789\n",
        "19          4         0       1\n",
        "20          4         1      25\n",
        "21          4         2     289\n",
        "22          4         3     919\n",
        "23          4         4     495\n",
        "Accuracy:  0.510577067629\n",
        "Accuracy (Mapped):  0.507298355633\n"
       ]
      }
     ],
     "prompt_number": 9
    },
    {
     "cell_type": "code",
     "collapsed": false,
     "input": [
      "'''\n",
      "Function\n",
      "--------\n",
      "Rate reviews using Bag of Words model\n",
      "\n",
      "Returns\n",
      "-------\n",
      "A new dataframe with a \"Sentiment\" column containing the predicted sentiments for each phrase\n",
      "\n",
      "'''\n",
      "def bow_rating(reviews):\n",
      "    df = reviews.copy()\n",
      "    sentiments = []\n",
      "    randoms = 0 # keep track of randomly rated phrases\n",
      "    not_found = []\n",
      "    for p in reviews['Phrase']:    \n",
      "        accum = 0 \n",
      "        words_in_dic = 0 \n",
      "        mean = 0\n",
      "        split = p.split() # split phrase into words\n",
      "        for s in split:\n",
      "            if s in dic:\n",
      "                words_in_dic += 1\n",
      "                accum += dic[s]\n",
      "        # check for case where no words were found in our dictionary\n",
      "        if words_in_dic == 0:\n",
      "            mean = random.randint(0, 4) # generate random sentiment from 0 to 4\n",
      "            randoms += 1\n",
      "            not_found.append(p) \n",
      "        else:        \n",
      "            mean = round(accum / words_in_dic)\n",
      "\n",
      "        sentiments.append(mean)\n",
      "\n",
      "    # add 'Sentiment' column containing predicted sentiments to new dataframe\n",
      "    df['Sentiment'] = sentiments \n",
      "    print \"randomly rated:\", randoms\n",
      "\n",
      "    return df, not_found\n",
      "\n",
      "\n",
      "'''\n",
      "Function\n",
      "--------\n",
      "Check predicted ratings accuracy when testing on our training set\n",
      "\n",
      "Returns\n",
      "-------\n",
      "An accuracy percentage\n",
      "\n",
      "'''\n",
      "\n",
      "def check_ratings(predictions, test_set):\n",
      "    hits = 0.\n",
      "    i = len(predictions)\n",
      "    for p in range(i):\n",
      "        if predictions['Sentiment'][p] == test_set['Sentiment'][p]:\n",
      "            hits += 1\n",
      "    return (hits / i)"
     ],
     "language": "python",
     "metadata": {},
     "outputs": [],
     "prompt_number": 156
    },
    {
     "cell_type": "code",
     "collapsed": false,
     "input": [
      "# test bow_rating function on training set\n",
      "# create new df without Sentiment column of training set\n",
      "trainset_test = train_phrases.copy()\n",
      "trainset_test = trainset_test.drop(['Sentiment'], axis = 1)\n",
      "\n",
      "results, not_found = bow_rating(trainset_test)"
     ],
     "language": "python",
     "metadata": {},
     "outputs": [
      {
       "output_type": "stream",
       "stream": "stdout",
       "text": [
        "randomly rated: 183\n"
       ]
      }
     ],
     "prompt_number": 157
    },
    {
     "cell_type": "code",
     "collapsed": false,
     "input": [
      "# plot something here, for ex distribution of ratings\n",
      "collections.Counter(results.Sentiment)\n"
     ],
     "language": "python",
     "metadata": {},
     "outputs": [
      {
       "metadata": {},
       "output_type": "pyout",
       "prompt_number": 160,
       "text": [
        "Counter({2.0: 119685, 1.0: 30863, 3.0: 4765, 0.0: 398, 4.0: 349})"
       ]
      }
     ],
     "prompt_number": 160
    },
    {
     "cell_type": "code",
     "collapsed": false,
     "input": [
      "accuracy = check_ratings(results, train_phrases)\n",
      "accuracy"
     ],
     "language": "python",
     "metadata": {},
     "outputs": [
      {
       "metadata": {},
       "output_type": "pyout",
       "prompt_number": 158,
       "text": [
        "0.5487632961681405"
       ]
      }
     ],
     "prompt_number": 158
    },
    {
     "cell_type": "markdown",
     "metadata": {},
     "source": [
      "also we can see that only 806 reviews are randomly rated by our algorithm because no words in the phrase were found\n",
      "in our dictionary, which accounts for ~ 0.5% of all our ratings\n",
      "\n",
      "ACTUALLY IT\"S VERY WEIRD THAT THERE ARE RANDOMLY RATED PHRASES WHEN RUNNING OUR DICTIONARY ON THE TRAINING SET SINCE \n",
      "ALL THE WORDS ARE SUPPOSED TO BE THERE!!!\n",
      "\n",
      "When we print out all the phrases for which no words were found in our dictionary, we see that some of them should be in there, but 'dangerous' for example, was rated in the training set with a capital 'D', 'average' is never rated, etc...Maybe by homogenizing the capitalization to lower-case, we can bring the number down of not-found phrases.\n",
      "\n",
      "After turning everything to lower-case in the original training set and basing our dictionary on that, the number of phrases with no words found at all was reduced from 806 to 183.\n",
      "\n",
      "**Now let's try with test set, submit to Kaggle. Then try tweaking, stop list, synonyms, etc...**"
     ]
    },
    {
     "cell_type": "code",
     "collapsed": false,
     "input": [
      "# load test set\n",
      "test_phrases = pd.read_table('https://sites.google.com/site/sentananianlucas/data-and-other-material/test.tsv?attredirects=0&d=1')\n",
      "# make everything lower-case\n",
      "test_phrases.Phrase = test_phrases.Phrase.str.lower()\n",
      "test_phrases.head()"
     ],
     "language": "python",
     "metadata": {},
     "outputs": [
      {
       "html": [
        "<div style=\"max-height:1000px;max-width:1500px;overflow:auto;\">\n",
        "<table border=\"1\" class=\"dataframe\">\n",
        "  <thead>\n",
        "    <tr style=\"text-align: right;\">\n",
        "      <th></th>\n",
        "      <th>PhraseId</th>\n",
        "      <th>SentenceId</th>\n",
        "      <th>Phrase</th>\n",
        "    </tr>\n",
        "  </thead>\n",
        "  <tbody>\n",
        "    <tr>\n",
        "      <th>0</th>\n",
        "      <td> 156061</td>\n",
        "      <td> 8545</td>\n",
        "      <td> an intermittently pleasing but mostly routine ...</td>\n",
        "    </tr>\n",
        "    <tr>\n",
        "      <th>1</th>\n",
        "      <td> 156062</td>\n",
        "      <td> 8545</td>\n",
        "      <td> an intermittently pleasing but mostly routine ...</td>\n",
        "    </tr>\n",
        "    <tr>\n",
        "      <th>2</th>\n",
        "      <td> 156063</td>\n",
        "      <td> 8545</td>\n",
        "      <td>                                                an</td>\n",
        "    </tr>\n",
        "    <tr>\n",
        "      <th>3</th>\n",
        "      <td> 156064</td>\n",
        "      <td> 8545</td>\n",
        "      <td> intermittently pleasing but mostly routine effort</td>\n",
        "    </tr>\n",
        "    <tr>\n",
        "      <th>4</th>\n",
        "      <td> 156065</td>\n",
        "      <td> 8545</td>\n",
        "      <td>        intermittently pleasing but mostly routine</td>\n",
        "    </tr>\n",
        "  </tbody>\n",
        "</table>\n",
        "</div>"
       ],
       "metadata": {},
       "output_type": "pyout",
       "prompt_number": 164,
       "text": [
        "   PhraseId  SentenceId                                             Phrase\n",
        "0    156061        8545  an intermittently pleasing but mostly routine ...\n",
        "1    156062        8545  an intermittently pleasing but mostly routine ...\n",
        "2    156063        8545                                                 an\n",
        "3    156064        8545  intermittently pleasing but mostly routine effort\n",
        "4    156065        8545         intermittently pleasing but mostly routine"
       ]
      }
     ],
     "prompt_number": 164
    },
    {
     "cell_type": "code",
     "collapsed": false,
     "input": [
      "ratings, rand_rated = bow_rating(test_phrases)"
     ],
     "language": "python",
     "metadata": {},
     "outputs": [
      {
       "output_type": "stream",
       "stream": "stdout",
       "text": [
        "randomly rated: 3329\n"
       ]
      }
     ],
     "prompt_number": 165
    },
    {
     "cell_type": "code",
     "collapsed": false,
     "input": [
      "# prepare the DF for submission on Kaggle\n",
      "sub = ratings.drop((['SentenceId', 'Phrase']), axis = 1)\n",
      "# turn Sentiment values into ints\n",
      "sub.Sentiment = sub.Sentiment.astype(int)\n",
      "# turn into CSV file\n",
      "sub.to_csv('/Users/barbaramaclaurin/Desktop/Final Project CS109/Submissions/sub1', index = False)\n"
     ],
     "language": "python",
     "metadata": {},
     "outputs": [],
     "prompt_number": 192
    },
    {
     "cell_type": "markdown",
     "metadata": {},
     "source": [
      "**TRY:**\n",
      "Use stop words list to keep only adjectives because if not, words like \"the\", rated 2, would lower the average of a phrase containing \"amazing\", etc...although maybe not a problem since it'll happen randomly.\n",
      "\n",
      "Make a dictionary where each synonym of the graded words we have is graded the same?\n",
      "Use negation? How?\n",
      "\n",
      "Maybe best model is stop words list and using negation, however that's a problem because we have to filter the phrases with the stop words list, so we'll lose \"not\"."
     ]
    },
    {
     "cell_type": "code",
     "collapsed": false,
     "input": [],
     "language": "python",
     "metadata": {},
     "outputs": [],
     "prompt_number": 193
    },
    {
     "cell_type": "code",
     "collapsed": false,
     "input": [],
     "language": "python",
     "metadata": {},
     "outputs": [],
     "prompt_number": 160
    },
    {
     "cell_type": "code",
     "collapsed": false,
     "input": [],
     "language": "python",
     "metadata": {},
     "outputs": [],
     "prompt_number": 160
    },
    {
     "cell_type": "code",
     "collapsed": false,
     "input": [],
     "language": "python",
     "metadata": {},
     "outputs": [],
     "prompt_number": 160
    },
    {
     "cell_type": "code",
     "collapsed": false,
     "input": [],
     "language": "python",
     "metadata": {},
     "outputs": [],
     "prompt_number": 160
    },
    {
     "cell_type": "code",
     "collapsed": false,
     "input": [],
     "language": "python",
     "metadata": {},
     "outputs": [],
     "prompt_number": 160
    },
    {
     "cell_type": "code",
     "collapsed": false,
     "input": [],
     "language": "python",
     "metadata": {},
     "outputs": []
    }
   ],
   "metadata": {}
  }
 ]
}