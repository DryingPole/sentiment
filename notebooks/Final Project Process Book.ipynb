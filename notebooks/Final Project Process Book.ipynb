{
 "metadata": {
  "name": "",
  "signature": "sha256:9559d3ec8fced3607a57d6e4d94bc7c65b35bf468e2582b751c5e9b618d921aa"
 },
 "nbformat": 3,
 "nbformat_minor": 0,
 "worksheets": [
  {
   "cells": [
    {
     "cell_type": "markdown",
     "metadata": {},
     "source": [
      "#Sentiment Analysis Analysis (Sentiment Analysis On Movie Reviews)#\n",
      "####An exploration of the application of machine learning techniques to the sentiment analysis of movie review.####\n",
      "*by Lucas Hure and Ian Smith*\n",
      "\n",
      "###Overview###\n",
      "\n",
      "This project is an exploration of different machine learning techniques applied to Sentiment Analysis in the context of movie reviews.\n",
      "Sentiment Analysis is the process of building a model to analyze and predict sentiment quality using natural language processing and text analysis techniques.\n",
      "\n",
      "The dataset we used was provided by the website Kaggle and is a collection of movie reviews from Rotten Tomatoes. Typically, sentiment classification is done on a binary scale of \"positive\" or \"negative\".\n",
      "One reason we chose this specific dataset is that the reviews are rated on a 5-degree scale:\n",
      "\n",
      "0 - negative, \n",
      "1 - somewhat negative,\n",
      "2 - neutral,\n",
      "3 - somewhat positive,\n",
      "4 - positive\n",
      "\n",
      "This makes the classification task much more granular and therefore much more challenging, with an accuracy expectation of 20% for a fully random model, as opposed to 50% for a dataset with a binarized sentiment scale.\n",
      "Very little work has been done on classification on such datasets and this was a major motivation for us.\n",
      "We were also very interested in Natural Language Processing and in seeing how certain applications of NLP would affect the accuracy of our models.\n",
      "\n",
      "The first part of this project comprises Data Exploration, where we look at the distribution of sentiment classes, the correlation between negation and sentiment, phrase length and sentiment, the ways in which sentiments are mispredicted (which class are they predicted as in that case), etc...\n",
      "\n",
      "Throughout the rest of our project, we tried to achieve a balance between optimizing the performance of a certain model and exploring new ones. Specifically, we started by engineering our own naive model \"from the ground up\" as a baseline for exploration and improvement. \n",
      "We then moved on to using a Naive Bayes model, a Logistic Regression model and Support Vector Machines.\n",
      "\n",
      "\n",
      "####How to Access Project Data and Sources####\n",
      "All of the project's data and code can be found in the following public github repository: https://github.com/DryingPole/sentiment\n",
      "\n",
      "The repository has three main directories:\n",
      "\n",
      "*notebooks*: This folder contains all of the IPython notebooks used for our project. All notebooks except *Final Project Process Book.ipynb* should be ignored, as they only contain works in progress that were later migrated to the final notebook. *Final Project Process Book.ipynb* is the notebook that is uploaded to iSites.\n",
      "\n",
      "*resources*: This directory contains all of the data used for the project. This includes primarily train.tsv and test.tsv, which were obtained from the Kaggle site. \n",
      "\n",
      "*sentiment*: This directory contains a few Python files. The primary Python files of interest at core.py and bow.py. core.py centralizes a number of helper functions used throughout the notebook. bow.py includes some of our intial models, including the word-dictionary based model and an ensemble model. \n",
      "\n",
      "\n",
      "####Inspiration####\n",
      "Kaggle competition Website: http://www.kaggle.com/c/sentiment-analysis-on-movie-reviews\n"
     ]
    },
    {
     "cell_type": "code",
     "collapsed": false,
     "input": [
      "# special IPython command to prepare the notebook for matplotlib\n",
      "%matplotlib inline \n",
      "%load_ext autoreload\n",
      "%autoreload 2\n",
      "\n",
      "# load required modules\n",
      "import requests \n",
      "import StringIO\n",
      "import zipfile\n",
      "import numpy as np\n",
      "import pandas as pd \n",
      "import scipy as sp\n",
      "import matplotlib.pyplot as plt \n",
      "import datetime as dt \n",
      "import random\n",
      "import collections\n",
      "import re\n",
      "\n",
      "import seaborn as sns\n",
      "\n",
      "# load custom modules\n",
      "import imp\n",
      "source_path = '../sentiment/'\n",
      "core = imp.load_source('core', source_path + 'core.py')\n",
      "bow = imp.load_source('bow', source_path + 'bow.py')\n",
      "bayes = imp.load_source('bayes', source_path + 'bayes.py')\n",
      "None"
     ],
     "language": "python",
     "metadata": {},
     "outputs": [],
     "prompt_number": 1
    },
    {
     "cell_type": "markdown",
     "metadata": {},
     "source": [
      "###Hands On: Exploring the Data Set###\n"
     ]
    },
    {
     "cell_type": "code",
     "collapsed": false,
     "input": [
      "# use 'load_reviews' to load the data set into a data frame. This will \"normalize\" the \n",
      "# headings and make all phrases lower case. \n",
      "phrases = core.load_reviews('../resources/train.tsv')\n",
      "phrases.head()"
     ],
     "language": "python",
     "metadata": {},
     "outputs": [
      {
       "html": [
        "<div style=\"max-height:1000px;max-width:1500px;overflow:auto;\">\n",
        "<table border=\"1\" class=\"dataframe\">\n",
        "  <thead>\n",
        "    <tr style=\"text-align: right;\">\n",
        "      <th></th>\n",
        "      <th>phraseid</th>\n",
        "      <th>sentenceid</th>\n",
        "      <th>phrase</th>\n",
        "      <th>sentiment</th>\n",
        "    </tr>\n",
        "  </thead>\n",
        "  <tbody>\n",
        "    <tr>\n",
        "      <th>0</th>\n",
        "      <td> 1</td>\n",
        "      <td> 1</td>\n",
        "      <td> a series of escapades demonstrating the adage ...</td>\n",
        "      <td> 1</td>\n",
        "    </tr>\n",
        "    <tr>\n",
        "      <th>1</th>\n",
        "      <td> 2</td>\n",
        "      <td> 1</td>\n",
        "      <td> a series of escapades demonstrating the adage ...</td>\n",
        "      <td> 2</td>\n",
        "    </tr>\n",
        "    <tr>\n",
        "      <th>2</th>\n",
        "      <td> 3</td>\n",
        "      <td> 1</td>\n",
        "      <td>                                          a series</td>\n",
        "      <td> 2</td>\n",
        "    </tr>\n",
        "    <tr>\n",
        "      <th>3</th>\n",
        "      <td> 4</td>\n",
        "      <td> 1</td>\n",
        "      <td>                                                 a</td>\n",
        "      <td> 2</td>\n",
        "    </tr>\n",
        "    <tr>\n",
        "      <th>4</th>\n",
        "      <td> 5</td>\n",
        "      <td> 1</td>\n",
        "      <td>                                            series</td>\n",
        "      <td> 2</td>\n",
        "    </tr>\n",
        "  </tbody>\n",
        "</table>\n",
        "</div>"
       ],
       "metadata": {},
       "output_type": "pyout",
       "prompt_number": 2,
       "text": [
        "   phraseid  sentenceid                                             phrase  \\\n",
        "0         1           1  a series of escapades demonstrating the adage ...   \n",
        "1         2           1  a series of escapades demonstrating the adage ...   \n",
        "2         3           1                                           a series   \n",
        "3         4           1                                                  a   \n",
        "4         5           1                                             series   \n",
        "\n",
        "   sentiment  \n",
        "0          1  \n",
        "1          2  \n",
        "2          2  \n",
        "3          2  \n",
        "4          2  "
       ]
      }
     ],
     "prompt_number": 2
    },
    {
     "cell_type": "markdown",
     "metadata": {},
     "source": [
      "####Analyzing the Distribution of Sentiment Classes in the Data Set####\n",
      "We can see from the below analysis that the sentiment classes follow a roughly normal distribution, with the majority of samples classified as 2 (or \"neutral\"). More extreme positive and negative sentiments are rarer, with extremely negative sentiments making up the smallest part of the data set at only 4.5%."
     ]
    },
    {
     "cell_type": "code",
     "collapsed": false,
     "input": [
      "# Get the total counts for each sentiment class within the data set\n",
      "sent_counts = phrases[['sentiment']].groupby(by='sentiment').size().to_frame(name='Occurences')\n",
      "sent_dist = sent_counts.divide(phrases.shape[0]).rename(columns={'Occurences': 'Distribution'})\n",
      "sent_counts.merge(sent_dist, left_index=True, right_index=True)"
     ],
     "language": "python",
     "metadata": {},
     "outputs": [
      {
       "html": [
        "<div style=\"max-height:1000px;max-width:1500px;overflow:auto;\">\n",
        "<table border=\"1\" class=\"dataframe\">\n",
        "  <thead>\n",
        "    <tr style=\"text-align: right;\">\n",
        "      <th></th>\n",
        "      <th>Occurences</th>\n",
        "      <th>Distribution</th>\n",
        "    </tr>\n",
        "    <tr>\n",
        "      <th>sentiment</th>\n",
        "      <th></th>\n",
        "      <th></th>\n",
        "    </tr>\n",
        "  </thead>\n",
        "  <tbody>\n",
        "    <tr>\n",
        "      <th>0</th>\n",
        "      <td>  7072</td>\n",
        "      <td> 0.045316</td>\n",
        "    </tr>\n",
        "    <tr>\n",
        "      <th>1</th>\n",
        "      <td> 27273</td>\n",
        "      <td> 0.174760</td>\n",
        "    </tr>\n",
        "    <tr>\n",
        "      <th>2</th>\n",
        "      <td> 79582</td>\n",
        "      <td> 0.509945</td>\n",
        "    </tr>\n",
        "    <tr>\n",
        "      <th>3</th>\n",
        "      <td> 32927</td>\n",
        "      <td> 0.210989</td>\n",
        "    </tr>\n",
        "    <tr>\n",
        "      <th>4</th>\n",
        "      <td>  9206</td>\n",
        "      <td> 0.058990</td>\n",
        "    </tr>\n",
        "  </tbody>\n",
        "</table>\n",
        "</div>"
       ],
       "metadata": {},
       "output_type": "pyout",
       "prompt_number": 3,
       "text": [
        "           Occurences  Distribution\n",
        "sentiment                          \n",
        "0                7072      0.045316\n",
        "1               27273      0.174760\n",
        "2               79582      0.509945\n",
        "3               32927      0.210989\n",
        "4                9206      0.058990"
       ]
      }
     ],
     "prompt_number": 3
    },
    {
     "cell_type": "code",
     "collapsed": false,
     "input": [
      "import math\n",
      "import matplotlib.mlab as mlab\n",
      "\n",
      "# Distribution of each class within the data set\n",
      "mew, std = phrases.sentiment.mean(), phrases.sentiment.std()\n",
      "xs = np.linspace(-1, 5, 200)\n",
      "sent_dist.plot(kind='bar', title='Distribution of Sentiment Class vs. Normal Distribution', figsize=(14,8), legend=None)\n",
      "plt.plot(xs, mlab.normpdf(xs, mew, std), c='r')\n",
      "plt.xlabel('Sentiment Class')\n",
      "plt.ylabel('Overall Percent of Data Set')\n",
      "None"
     ],
     "language": "python",
     "metadata": {},
     "outputs": [
      {
       "metadata": {},
       "output_type": "display_data",
       "png": "[encoded data removed]",
       "text": [
        "<matplotlib.figure.Figure at 0x10560f5d0>"
       ]
      }
     ],
     "prompt_number": 4
    },
    {
     "cell_type": "markdown",
     "metadata": {},
     "source": [
      "Next we wanted to try to get a sense for how strongly correlated negative reviews were with certain \"fundamental\" negative or negation words. For this purpose, we defined a tiny dictionary of \"negation\" words. Our theory is that if identifying a such a correlation might help us identify negative reviews more readily since it's a well known problem that naive sentiment detection methods often fail to detect these constructs."
     ]
    },
    {
     "cell_type": "code",
     "collapsed": false,
     "input": [
      "# Data Exploration -- capture some features of each phrase\n",
      "import core\n",
      "\n",
      "def load_negation_dict(path='../resources/neg_words.csv'):\n",
      "    ndf = pd.read_csv(path, names=['neg_word'], index_col=0)\n",
      "    ndf['Value'] = True\n",
      "    return ndf.to_dict()['Value']\n",
      "\n",
      "n_words = load_negation_dict()\n",
      "pe = phrases.copy()\n",
      "pe['word_list'] = pe.phrase.str.split()\n",
      "pe['neg_count'] = map(lambda ws: core.lreduce(lambda acc, w: acc + (1 if w in n_words else 0), ws, 0), pe.word_list)\n",
      "pe['contains_neg'] = map(lambda nc: True if nc > 0 else False, pe.neg_count)\n",
      "pe['word_count'] = map(len, pe.word_list)\n",
      "pe.head()"
     ],
     "language": "python",
     "metadata": {},
     "outputs": [
      {
       "html": [
        "<div style=\"max-height:1000px;max-width:1500px;overflow:auto;\">\n",
        "<table border=\"1\" class=\"dataframe\">\n",
        "  <thead>\n",
        "    <tr style=\"text-align: right;\">\n",
        "      <th></th>\n",
        "      <th>phraseid</th>\n",
        "      <th>sentenceid</th>\n",
        "      <th>phrase</th>\n",
        "      <th>sentiment</th>\n",
        "      <th>word_list</th>\n",
        "      <th>neg_count</th>\n",
        "      <th>contains_neg</th>\n",
        "      <th>word_count</th>\n",
        "    </tr>\n",
        "  </thead>\n",
        "  <tbody>\n",
        "    <tr>\n",
        "      <th>0</th>\n",
        "      <td> 1</td>\n",
        "      <td> 1</td>\n",
        "      <td> a series of escapades demonstrating the adage ...</td>\n",
        "      <td> 1</td>\n",
        "      <td> [a, series, of, escapades, demonstrating, the,...</td>\n",
        "      <td> 1</td>\n",
        "      <td>  True</td>\n",
        "      <td> 37</td>\n",
        "    </tr>\n",
        "    <tr>\n",
        "      <th>1</th>\n",
        "      <td> 2</td>\n",
        "      <td> 1</td>\n",
        "      <td> a series of escapades demonstrating the adage ...</td>\n",
        "      <td> 2</td>\n",
        "      <td> [a, series, of, escapades, demonstrating, the,...</td>\n",
        "      <td> 0</td>\n",
        "      <td> False</td>\n",
        "      <td> 14</td>\n",
        "    </tr>\n",
        "    <tr>\n",
        "      <th>2</th>\n",
        "      <td> 3</td>\n",
        "      <td> 1</td>\n",
        "      <td>                                          a series</td>\n",
        "      <td> 2</td>\n",
        "      <td>                                       [a, series]</td>\n",
        "      <td> 0</td>\n",
        "      <td> False</td>\n",
        "      <td>  2</td>\n",
        "    </tr>\n",
        "    <tr>\n",
        "      <th>3</th>\n",
        "      <td> 4</td>\n",
        "      <td> 1</td>\n",
        "      <td>                                                 a</td>\n",
        "      <td> 2</td>\n",
        "      <td>                                               [a]</td>\n",
        "      <td> 0</td>\n",
        "      <td> False</td>\n",
        "      <td>  1</td>\n",
        "    </tr>\n",
        "    <tr>\n",
        "      <th>4</th>\n",
        "      <td> 5</td>\n",
        "      <td> 1</td>\n",
        "      <td>                                            series</td>\n",
        "      <td> 2</td>\n",
        "      <td>                                          [series]</td>\n",
        "      <td> 0</td>\n",
        "      <td> False</td>\n",
        "      <td>  1</td>\n",
        "    </tr>\n",
        "  </tbody>\n",
        "</table>\n",
        "</div>"
       ],
       "metadata": {},
       "output_type": "pyout",
       "prompt_number": 5,
       "text": [
        "   phraseid  sentenceid                                             phrase  \\\n",
        "0         1           1  a series of escapades demonstrating the adage ...   \n",
        "1         2           1  a series of escapades demonstrating the adage ...   \n",
        "2         3           1                                           a series   \n",
        "3         4           1                                                  a   \n",
        "4         5           1                                             series   \n",
        "\n",
        "   sentiment                                          word_list  neg_count  \\\n",
        "0          1  [a, series, of, escapades, demonstrating, the,...          1   \n",
        "1          2  [a, series, of, escapades, demonstrating, the,...          0   \n",
        "2          2                                        [a, series]          0   \n",
        "3          2                                                [a]          0   \n",
        "4          2                                           [series]          0   \n",
        "\n",
        "  contains_neg  word_count  \n",
        "0         True          37  \n",
        "1        False          14  \n",
        "2        False           2  \n",
        "3        False           1  \n",
        "4        False           1  "
       ]
      }
     ],
     "prompt_number": 5
    },
    {
     "cell_type": "code",
     "collapsed": false,
     "input": [
      "# Analyze phrase sentiment as related to the appearance of the wo \n",
      "g = pe[pe['contains_neg'] == True].groupby('sentiment').count()\n",
      "prop_of_neg = sent_counts.merge(g, left_index=True , right_index=True)\n",
      "prop_of_neg['prop'] = prop_of_neg.neg_count / prop_of_neg.Occurences\n",
      "prop_of_neg.plot(kind='bar', y='prop', figsize=(12,8))\n",
      "plt.title('Proportion of Samples Containing \"Negation\" Words by Sentiment Class')\n",
      "plt.xlabel('Sentiment Class')\n",
      "plt.ylabel('Percentage of Samples Containing \"Negation\" Words')\n",
      "None"
     ],
     "language": "python",
     "metadata": {},
     "outputs": [
      {
       "metadata": {},
       "output_type": "display_data",
       "png": "[encoded data removed]",
       "text": [
        "<matplotlib.figure.Figure at 0x13189ce10>"
       ]
      }
     ],
     "prompt_number": 12
    },
    {
     "cell_type": "markdown",
     "metadata": {},
     "source": [
      "We found that the even using a very small dictionary of \"negation\" words, these words were occurred with almost twice as frequently in the \"negative\" sentiment classes than the neutral and positive sentiment classes. However, we realized that our method for tokenizing the phrases into words might not be entirely correct since it splits phrases on spaces. To see an example of the kind of issue one might encounter, consider the following examples.\n",
      "\n",
      "###Parsing Phrases - Some Fine Tuning###\n",
      "Consider the example phrase \"We considered parsing, but it was too difficult.\" What we find is that the appearance of punctuation in phrases can have the undersired effect of obscuring the words with which they co-occur. This means that our models may not recognize potentially sentiment-significant words if they coincide with punctuation."
     ]
    },
    {
     "cell_type": "code",
     "collapsed": false,
     "input": [
      "sample_phrase = \"We considered parsing, but it was too difficult.\"\n",
      "naive_split = sample_phrase.split()\n",
      "better_split = re.split(\"\\W+\", sample_phrase)\n",
      "print naive_split\n",
      "print better_split"
     ],
     "language": "python",
     "metadata": {},
     "outputs": [
      {
       "output_type": "stream",
       "stream": "stdout",
       "text": [
        "['We', 'considered', 'parsing,', 'but', 'it', 'was', 'too', 'difficult.']\n",
        "['We', 'considered', 'parsing', 'but', 'it', 'was', 'too', 'difficult', '']\n"
       ]
      }
     ],
     "prompt_number": 13
    },
    {
     "cell_type": "markdown",
     "metadata": {},
     "source": [
      "####Normal space-based splitting yields:#### \n",
      "['We', 'considered', *'parsing,'*, 'but', 'it', 'was', 'too', *'difficult.'*]\n",
      "####Improved word-based splitting yields:####\n",
      "['We', 'considered', 'parsing', 'but', 'it', 'was', 'too', 'difficult', '']"
     ]
    },
    {
     "cell_type": "code",
     "collapsed": false,
     "input": [],
     "language": "python",
     "metadata": {},
     "outputs": []
    },
    {
     "cell_type": "markdown",
     "metadata": {},
     "source": [
      "Next, we wanted to determine if a meaningful heuristic could be extracted from the data to establish a correlation between the length of the phrase and it's sentiment class."
     ]
    },
    {
     "cell_type": "code",
     "collapsed": false,
     "input": [
      "# Determine the max word count to establish an appropriate range for bucketing phrases by number of words\n",
      "print \"Longest Phrase: \", max(pe.word_count)\n",
      "\n",
      "def filter_by_wc(wc):\n",
      "    \"\"\"\n",
      "    Define a function that groups phrases by number of words within a defined range\n",
      "    \"\"\"\n",
      "    return pe[['sentiment']][(pe.word_count <= wc) & (pe.word_count > (wc-10))].sentiment.tolist()\n",
      "\n",
      "bins = [filter_by_wc(x) for x in np.arange(10,60,10)]\n",
      "\n",
      "plt.figure(figsize=(14,14))\n",
      "plt.title(\"Distribution of Sentiment Ratings within Phrases\")\n",
      "plt.xlabel(\"Words per Phrase\")\n",
      "plt.ylabel(\"Distribution of Sentiment Labels\")\n",
      "sns.violinplot(bins, names = [str(x)+\" to \"+str(y) for x, y in zip(np.arange(0,50,10), np.arange(10,60,10))])\n",
      "None"
     ],
     "language": "python",
     "metadata": {},
     "outputs": [
      {
       "output_type": "stream",
       "stream": "stdout",
       "text": [
        "Longest Phrase:  52\n"
       ]
      },
      {
       "metadata": {},
       "output_type": "display_data",
       "png": "[encoded data removed]",
       "text": [
        "<matplotlib.figure.Figure at 0x14cffd1d0>"
       ]
      }
     ],
     "prompt_number": 14
    },
    {
     "cell_type": "markdown",
     "metadata": {},
     "source": [
      "We can see that as phrase length increases, the distribution of classes becomes less normal. Fewer phrases are rated 2s and more phrases receive either positive or negative ratings. We suspect that this is because longer phrases will tend to provide more overall context for a review. If you look a many of the shorter phrases in the data set, they are in fact sub-phrases of the longer phrases. Many of these shorter phrases on their own lack sufficient context or the appearance of \"strong sentiment\" words needed to give the phrase definite polarity.\n",
      "\n",
      "While we are not immediately sure how to exploit this correlation in terms of detecting a phrases sentiment, we think it may help us make more effective choices of the phrases we use for training our models later on. Alternately, we may be able to augment some of our models with evidence-based heuristics to provide some improvement."
     ]
    },
    {
     "cell_type": "code",
     "collapsed": false,
     "input": [],
     "language": "python",
     "metadata": {},
     "outputs": [],
     "prompt_number": 155
    },
    {
     "cell_type": "markdown",
     "metadata": {},
     "source": [
      "###Conclusions from Data Exploration###\n",
      "We found it difficult to extract meaningful features from the data set using elementary analysis. Some of our initial assumptions about the data proved not to hold: the number of words in a review appear not to have any bearing on its overall sentiment; the appearance of \"negating\" terms (such as \"not\", \"neither\", etc.) are more strongly correlated with neutral and negative ratings than positive ratings, but the overall proportion of phrases in the data set containing negating terms is quite low, suggesting that this would be a difficult feature to exploit. \n",
      "\n",
      "##Models##\n",
      "###An Initial Approach to Sentiment Analysis: Dictionary-Based Ranking Model###\n",
      "For our first model, we wanted to try something extremely naive in order to try to gage the difficulty of the problem. This first approach is quite similar to a \"Bag of Words\" model typically seen with Naive Bayes. That is, this initial model does not take phrase structure or part of speech into account at all. The approach is simple: glean from the training data set every one-word phrase and it's associated sentiment score; once the dictionary has been built, parse each phrase into individual words and use a rudimentary algorithm to  aggregate the ranking of a phrase's individual words into a holistic sentiment score. The idea behind this approach is to establish a baseline for indicativeness of individual word polarities within a phrase. If we are lucky, the data set will have a sufficiently rich set of sentiment-laden words to allow this algorithm to perform moderately well. \n",
      "\n",
      "With a balanced data set -- that is, one in which each class appears equally frequently -- we would expect randomly guessing each phrase's sentiment class to be roughly 20% accurate. Thus, if our naive algorithm can double or triple that amount, it will already represent a good deal of progress and give us an indication how effective we can expect such a naive \"bag of words\" approaches to be. Note that thiss fine-grained sentiment classification represents a significantly more difficult task than a typical \"binary\" classification scheme. As such, predicting classes with more than 60% accuracy is actually quite good; in fact the highest score currently on Kaggle is close to 75%. \n",
      "\n",
      "As a first attempt, we define a model called 'BagOfWordsModel' in the module 'bow.py'. This model provides 'fit' and 'preidct' methods; the 'fit' method expects a list of single-word phrases, and a list of corresponding sentiments for those phrases. It builds a dictionary that is used by the 'predict' method to predict sentiments. \n",
      "\n",
      "For our first attempt, we will split our training set into one-word phrases and multi-word phrases. Our one-word phrases will serve as our 'training' data set. After we've trained the model, we'll predict sentiments for the remaining phrases, then determine the model's accuracy by comparing against the known sentiment labels.\n",
      "\n",
      "The exact method used for label prediction is quite simple: we use a weighted average of the sentiments of the each words in a phrase and round the number to the nearest integer to arrive at the predicted class. Our model also optionally takes a dictionary of class weights to allow certain classes to contribute more to the overall prediction for a phrase."
     ]
    },
    {
     "cell_type": "code",
     "collapsed": false,
     "input": [
      "# use the one-word phrases as a training set for the BoW model. Split the data set into training data - one-word phrases -\n",
      "# and test data - all other phrases\n",
      "\n",
      "# Define the regex for single words and use this to split the data set\n",
      "single_word = r'\\A[\\w-]+\\Z'\n",
      "\n",
      "# Extract the training data\n",
      "train = phrases[phrases.phrase.str.match(single_word)][['phrase', 'sentiment']]\n",
      "X_train, Y_train = train.phrase.tolist(), train.sentiment.tolist()\n",
      "\n",
      "# Extract the test data\n",
      "test = phrases[map(lambda x: not x, phrases.phrase.str.match(single_word))][['phrase', 'sentiment']]\n",
      "X_test, Y_test = test.phrase, test.sentiment\n",
      "\n",
      "# Show the head of the training and test data sets\n",
      "print \"Training Set:\"\n",
      "print train.head(5)\n",
      "print \"\\nTest Set:\"\n",
      "print test.head(5)"
     ],
     "language": "python",
     "metadata": {},
     "outputs": [
      {
       "output_type": "stream",
       "stream": "stdout",
       "text": [
        "Training Set:\n",
        "           phrase  sentiment\n",
        "3               a          2\n",
        "4          series          2\n",
        "6              of          2\n",
        "8       escapades          2\n",
        "11  demonstrating          2\n",
        "\n",
        "Test Set:\n",
        "                                              phrase  sentiment\n",
        "0  a series of escapades demonstrating the adage ...          1\n",
        "1  a series of escapades demonstrating the adage ...          2\n",
        "2                                           a series          2\n",
        "5  of escapades demonstrating the adage that what...          2\n",
        "7  escapades demonstrating the adage that what is...          2\n"
       ]
      }
     ],
     "prompt_number": 15
    },
    {
     "cell_type": "code",
     "collapsed": false,
     "input": [
      "# Train the model, then predict and score sentiments for the test data\n",
      "bow_model = bow.BagOfWordsModel()\n",
      "bow_model.fit(X_train, Y_train)\n",
      "accuracy = bow_model.score(X_test, Y_test)\n",
      "print accuracy\n",
      "print bow_model._scoring"
     ],
     "language": "python",
     "metadata": {},
     "outputs": [
      {
       "output_type": "stream",
       "stream": "stdout",
       "text": [
        "0.509524729936\n",
        "defaultdict(<function <lambda> at 0x12e450ed8>, {0: 227.0, 1: 4957.0, 2: 54876.0, 3: 10669.0, 4: 446.0})\n"
       ]
      }
     ],
     "prompt_number": 16
    },
    {
     "cell_type": "markdown",
     "metadata": {},
     "source": [
      "Our first attempt with a naive algorithm gives us a 51% classification accuracy, which is more than two and a half times better than randomly guessing the classes.\n",
      "\n",
      "This isn't bad for a first pass, but we want to get a better sense for which classes prove most difficult to predict. We can use our sent_counts data frame to determine our overall accuracy for each sentiment class."
     ]
    },
    {
     "cell_type": "code",
     "collapsed": false,
     "input": [
      "acc_counts = bow_model._scoring\n",
      "sent_count_dict = sent_counts.to_dict()['Occurences']\n",
      "\n",
      "bow_acc_df = pd.DataFrame(data=np.transpose([acc_counts.keys(), \n",
      "                                             acc_counts.values(), \n",
      "                                             sent_count_dict.values()]),\n",
      "                          columns=['sentiment', 'correct', 'total'])\n",
      "\n",
      "bow_acc_df['accuracy'] = np.round(bow_acc_df.correct / bow_acc_df.total, 3)\n",
      "print bow_acc_df[['sentiment', 'accuracy']].head()\n",
      "\n",
      "bow_acc_df.plot(kind='bar', x='sentiment', y='accuracy', title='Predictive Accuracy by Class', figsize=(8, 6))\n",
      "plt.ylabel('Accuracy')\n",
      "plt.xlabel('Sentiment Class')\n",
      "None"
     ],
     "language": "python",
     "metadata": {},
     "outputs": [
      {
       "output_type": "stream",
       "stream": "stdout",
       "text": [
        "   sentiment  accuracy\n",
        "0          0     0.032\n",
        "1          1     0.182\n",
        "2          2     0.690\n",
        "3          3     0.324\n",
        "4          4     0.048\n"
       ]
      },
      {
       "metadata": {},
       "output_type": "display_data",
       "png": "[encoded data removed]",
       "text": [
        "<matplotlib.figure.Figure at 0x10d2f1d10>"
       ]
      }
     ],
     "prompt_number": 17
    },
    {
     "cell_type": "markdown",
     "metadata": {},
     "source": [
      "As we can see from the above, our model performs exceptionally poorly on the most extreme sentiment classes of 0 and 4. Since our model drives off of the sentiments of individual words and allows us to adjust the weights assigned to each class, let's see if adjusting the default weights can improve our prediction accuracy."
     ]
    },
    {
     "cell_type": "code",
     "collapsed": false,
     "input": [
      "# Define a function that searches a number of weight combinations and returns the weight combination and model that receives the\n",
      "# best accuracy score.\n",
      "def search_best_weights():\n",
      "    best_acc = 0.0\n",
      "    best_weights = None\n",
      "    best_model = None\n",
      "    zeros = [5, 25, 50, 100]\n",
      "    ones = [2, 10, 20]\n",
      "    threes = [3, 5]\n",
      "    fours = [5, 25, 50]\n",
      "    for z in zeros:\n",
      "        for o in ones:\n",
      "            for t in threes:\n",
      "                for f in fours:\n",
      "                    wm = {0: z, 1: o, 2: 1, 3: t, 4: f}\n",
      "                    wbm = bow.BagOfWordsModel()\n",
      "                    wbm.fit(X_train, Y_train)\n",
      "                    wbm_acc = wbm.score(X_test, Y_test, weight_map=wm)\n",
      "                    if wbm_acc > best_acc:\n",
      "                        best_acc = wbm_acc\n",
      "                        best_weights = wm\n",
      "                        best_model = wbm\n",
      "    return best_acc, best_model, best_weights\n",
      "\n",
      "ba, bm, bw = search_best_weights()\n",
      "print ba, bw"
     ],
     "language": "python",
     "metadata": {},
     "outputs": [
      {
       "output_type": "stream",
       "stream": "stdout",
       "text": [
        "0.511765421758 {0: 25, 1: 2, 2: 1, 3: 3, 4: 5}\n"
       ]
      }
     ],
     "prompt_number": 19
    },
    {
     "cell_type": "markdown",
     "metadata": {},
     "source": [
      "Based on this search, it appears that our original default weights -- {0: 5, 1: 3, 2: 1, 3: 3, 4: 5} -- were the best. There doesn't seem to be much more to be gained using this model's approach given that a number of different weight combinations only degraded performance."
     ]
    },
    {
     "cell_type": "markdown",
     "metadata": {},
     "source": [
      "###Multinomial Naive Bayes###\n",
      "Mutinomial Naive Bayes is often used to perform basic sentiment analysis in what is called a \"bag of words\" approach. To use this model, we'll use the CountVectorizer class of scikit learn to convert our training data into a vector where each word represents a feature. The CountVectorizer will return a sparse matrix indicating the features -- or words -- that appear in each phrase.\n",
      "\n",
      "Our research of sentiment-analysis methodologies indicates that word frequency tends not to provide a good indication of sentiment so we'll use a binarized Multinomial Bayes algorithm in which each word-feature is counted only once per phrase. We'll also use a default stop-words list to try to pair down the feature list and improve accuracy."
     ]
    },
    {
     "cell_type": "code",
     "collapsed": false,
     "input": [
      "# Prepare the data -- use the vectorizer to return a feature set that corresponds all of the vocabulary found in the data set.\n",
      "from sklearn.cross_validation import train_test_split\n",
      "from sklearn.feature_extraction.text import CountVectorizer\n",
      "\n",
      "swords = 'english' # eliminate stop words\n",
      "rarray = phrases.phrase.tolist()\n",
      "vectorizer = CountVectorizer(binary=True, stop_words=swords)\n",
      "vectorizer.fit(rarray)\n",
      "X = vectorizer.transform(rarray).tocsc()\n",
      "Y = phrases.sentiment.tolist()\n",
      "xtrain, xtest, ytrain, ytest = train_test_split(X, Y)"
     ],
     "language": "python",
     "metadata": {},
     "outputs": [],
     "prompt_number": 20
    },
    {
     "cell_type": "markdown",
     "metadata": {},
     "source": [
      "We'll define some helper functions to help us transform data and run our models. This will help us reduce the amount of boilerplat code we need to write to test our models."
     ]
    },
    {
     "cell_type": "code",
     "collapsed": false,
     "input": [
      "'''\n",
      "Function\n",
      "--------\n",
      "A function that will vectorize a data frame of reviews into a sparse matrix and a list\n",
      "'''\n",
      "def transform_data(reviews, **kwargs):\n",
      "    if \"binary\" not in kwargs:\n",
      "        kwargs[\"binary\"] = True\n",
      "    if \"min_df\" not in kwargs:\n",
      "        kwargs[\"min_df\"] = 0.0\n",
      "    rarray = reviews.phrase.tolist()\n",
      "    vectorizer = kwargs['vectorizer'] if 'vectorizer' in kwargs else CountVectorizer(**kwargs)\n",
      "    vectorizer.fit(rarray)\n",
      "    X = vectorizer.transform(rarray).tocsc()\n",
      "    return X, reviews.sentiment.tolist()\n",
      "  \n",
      "    \n",
      "'''\n",
      "\n",
      "'''\n",
      "def split(X, Y, **kwargs):\n",
      "    return train_test_split(X, Y, **kwargs)\n",
      "    \n",
      "'''\n",
      "Function\n",
      "--------\n",
      "Prepare specific dataset and run specific model on it.\n",
      "Vectorizes and splits data into train and test sets, then fits data to the model decided upon and prints out \n",
      "accuracy scores.\n",
      "\n",
      "Parameters\n",
      "----------\n",
      "review_df: reviews dataframe. The original \"reviews\" set, the \"stop_reviews\" set, the \"bal_reviews\" dataset, \n",
      "or the \"bin_reviews\" dataset\n",
      "model: an instance of any model that provides 'fit', 'predict', and 'score' methods\n",
      "\n",
      "Returns\n",
      "-------\n",
      "prints out accuracy score \n",
      "'''\n",
      "def test_model(model, data=None):\n",
      "    xtrain, xtest, ytrain, ytest = data\n",
      "    mf = model.fit(xtrain, ytrain)\n",
      "    print \"Model[%s] Accuracy: %0.2f%%\" % (str(mf), mf.score(xtest, ytest))\n",
      "    return mf"
     ],
     "language": "python",
     "metadata": {},
     "outputs": [],
     "prompt_number": 21
    },
    {
     "cell_type": "code",
     "collapsed": false,
     "input": [
      "from sklearn.naive_bayes import MultinomialNB\n",
      "\n",
      "X_trans, Y_trans = transform_data(phrases)\n",
      "XY_all = split(X_trans, Y_trans)\n",
      "mnb = test_model(MultinomialNB(), data=XY_all)"
     ],
     "language": "python",
     "metadata": {},
     "outputs": [
      {
       "output_type": "stream",
       "stream": "stdout",
       "text": [
        "Model[MultinomialNB(alpha=1.0, class_prior=None, fit_prior=True)] Accuracy: 0.61%\n"
       ]
      }
     ],
     "prompt_number": 22
    },
    {
     "cell_type": "markdown",
     "metadata": {},
     "source": [
      "Our first naive model, using almost no data pre-processing gets an accuracy rate of 61% on the data set. Below we analyze visualize the scatter plot of the expected vs. actual predictions to get a sense for which classes are most accurately predicted."
     ]
    },
    {
     "cell_type": "code",
     "collapsed": false,
     "input": [
      "def scatter_exp_vs_pred(df=None, expected=None, predicted=None):\n",
      "    \"\"\"\n",
      "    A function that takes a data frame with 'expected' and 'predicted' columns and\n",
      "    creates a scatter plot for those columns\n",
      "    :param df: A dataframe with 'expected' and 'predicted' columns, optionally None\n",
      "    :param expected: A list of expected values\n",
      "    :param predicted: A list of predicted values\n",
      "    :return: None.\n",
      "    \"\"\"\n",
      "    if df is None:\n",
      "        df = pd.DataFrame()\n",
      "        df['expected'] = expected\n",
      "        df['predicted'] = predicted\n",
      "\n",
      "    # res_df = pd.DataFrame(data=np.transpose([pred, XY_all[3]]), columns=[\"predicted\", \"expected\"])\n",
      "    rstats = df.groupby([\"predicted\", \"expected\"]).size().reset_index().rename(columns={0: \"counts\"})\n",
      "\n",
      "    plt.figure(figsize=(12, 8))\n",
      "    plt.title(\"Predicted vs. Expected Sentiment Values\")\n",
      "    plt.ylabel(\"Predicted Sentiment\")\n",
      "    plt.xlabel(\"Expected Sentiment\")\n",
      "    plt.scatter(rstats.expected, rstats.predicted, s=[0.1*c for c in rstats.counts], alpha=0.6)\n",
      "    plt.show()\n",
      "    return rstats\n",
      "    "
     ],
     "language": "python",
     "metadata": {},
     "outputs": [],
     "prompt_number": 23
    },
    {
     "cell_type": "code",
     "collapsed": false,
     "input": [
      "# Create a data frame of the expected vs. predicted sentiments. Count each predicted,expected pair and plot\n",
      "pred = mnb.predict(XY_all[1])\n",
      "rstats = scatter_exp_vs_pred(expected=XY_all[3], predicted=pred)"
     ],
     "language": "python",
     "metadata": {},
     "outputs": [
      {
       "metadata": {},
       "output_type": "display_data",
       "png": "[encoded data removed]",
       "text": [
        "<matplotlib.figure.Figure at 0x12c6f8fd0>"
       ]
      }
     ],
     "prompt_number": 24
    },
    {
     "cell_type": "markdown",
     "metadata": {},
     "source": [
      "We can see based on above scatter plot that most of the miscategorizations are showing up in neigbhoring sentiment classes. 2s are generally being miscategorized as 1s or 3s. 0s are mostly miscategorized as 1s and most miscategorizations of 3s are either 2s or 4s. This seems somewhat encouraging if we view the classification problem as a linear regression problem; however, MNB does not use this model for classification."
     ]
    },
    {
     "cell_type": "code",
     "collapsed": false,
     "input": [
      "# Show exact figures for expected vs. predicted sentiment class.\n",
      "rstats.head(25)"
     ],
     "language": "python",
     "metadata": {},
     "outputs": [
      {
       "html": [
        "<div style=\"max-height:1000px;max-width:1500px;overflow:auto;\">\n",
        "<table border=\"1\" class=\"dataframe\">\n",
        "  <thead>\n",
        "    <tr style=\"text-align: right;\">\n",
        "      <th></th>\n",
        "      <th>predicted</th>\n",
        "      <th>expected</th>\n",
        "      <th>counts</th>\n",
        "    </tr>\n",
        "  </thead>\n",
        "  <tbody>\n",
        "    <tr>\n",
        "      <th>0 </th>\n",
        "      <td> 0</td>\n",
        "      <td> 0</td>\n",
        "      <td>   520</td>\n",
        "    </tr>\n",
        "    <tr>\n",
        "      <th>1 </th>\n",
        "      <td> 0</td>\n",
        "      <td> 1</td>\n",
        "      <td>   449</td>\n",
        "    </tr>\n",
        "    <tr>\n",
        "      <th>2 </th>\n",
        "      <td> 0</td>\n",
        "      <td> 2</td>\n",
        "      <td>   179</td>\n",
        "    </tr>\n",
        "    <tr>\n",
        "      <th>3 </th>\n",
        "      <td> 0</td>\n",
        "      <td> 3</td>\n",
        "      <td>    21</td>\n",
        "    </tr>\n",
        "    <tr>\n",
        "      <th>4 </th>\n",
        "      <td> 0</td>\n",
        "      <td> 4</td>\n",
        "      <td>     5</td>\n",
        "    </tr>\n",
        "    <tr>\n",
        "      <th>5 </th>\n",
        "      <td> 1</td>\n",
        "      <td> 0</td>\n",
        "      <td>   851</td>\n",
        "    </tr>\n",
        "    <tr>\n",
        "      <th>6 </th>\n",
        "      <td> 1</td>\n",
        "      <td> 1</td>\n",
        "      <td>  3025</td>\n",
        "    </tr>\n",
        "    <tr>\n",
        "      <th>7 </th>\n",
        "      <td> 1</td>\n",
        "      <td> 2</td>\n",
        "      <td>  1915</td>\n",
        "    </tr>\n",
        "    <tr>\n",
        "      <th>8 </th>\n",
        "      <td> 1</td>\n",
        "      <td> 3</td>\n",
        "      <td>   337</td>\n",
        "    </tr>\n",
        "    <tr>\n",
        "      <th>9 </th>\n",
        "      <td> 1</td>\n",
        "      <td> 4</td>\n",
        "      <td>    35</td>\n",
        "    </tr>\n",
        "    <tr>\n",
        "      <th>10</th>\n",
        "      <td> 2</td>\n",
        "      <td> 0</td>\n",
        "      <td>   393</td>\n",
        "    </tr>\n",
        "    <tr>\n",
        "      <th>11</th>\n",
        "      <td> 2</td>\n",
        "      <td> 1</td>\n",
        "      <td>  2931</td>\n",
        "    </tr>\n",
        "    <tr>\n",
        "      <th>12</th>\n",
        "      <td> 2</td>\n",
        "      <td> 2</td>\n",
        "      <td> 15415</td>\n",
        "    </tr>\n",
        "    <tr>\n",
        "      <th>13</th>\n",
        "      <td> 2</td>\n",
        "      <td> 3</td>\n",
        "      <td>  3179</td>\n",
        "    </tr>\n",
        "    <tr>\n",
        "      <th>14</th>\n",
        "      <td> 2</td>\n",
        "      <td> 4</td>\n",
        "      <td>   334</td>\n",
        "    </tr>\n",
        "    <tr>\n",
        "      <th>15</th>\n",
        "      <td> 3</td>\n",
        "      <td> 0</td>\n",
        "      <td>    55</td>\n",
        "    </tr>\n",
        "    <tr>\n",
        "      <th>16</th>\n",
        "      <td> 3</td>\n",
        "      <td> 1</td>\n",
        "      <td>   338</td>\n",
        "    </tr>\n",
        "    <tr>\n",
        "      <th>17</th>\n",
        "      <td> 3</td>\n",
        "      <td> 2</td>\n",
        "      <td>  2203</td>\n",
        "    </tr>\n",
        "    <tr>\n",
        "      <th>18</th>\n",
        "      <td> 3</td>\n",
        "      <td> 3</td>\n",
        "      <td>  4117</td>\n",
        "    </tr>\n",
        "    <tr>\n",
        "      <th>19</th>\n",
        "      <td> 3</td>\n",
        "      <td> 4</td>\n",
        "      <td>  1189</td>\n",
        "    </tr>\n",
        "    <tr>\n",
        "      <th>20</th>\n",
        "      <td> 4</td>\n",
        "      <td> 0</td>\n",
        "      <td>     4</td>\n",
        "    </tr>\n",
        "    <tr>\n",
        "      <th>21</th>\n",
        "      <td> 4</td>\n",
        "      <td> 1</td>\n",
        "      <td>    22</td>\n",
        "    </tr>\n",
        "    <tr>\n",
        "      <th>22</th>\n",
        "      <td> 4</td>\n",
        "      <td> 2</td>\n",
        "      <td>   186</td>\n",
        "    </tr>\n",
        "    <tr>\n",
        "      <th>23</th>\n",
        "      <td> 4</td>\n",
        "      <td> 3</td>\n",
        "      <td>   593</td>\n",
        "    </tr>\n",
        "    <tr>\n",
        "      <th>24</th>\n",
        "      <td> 4</td>\n",
        "      <td> 4</td>\n",
        "      <td>   719</td>\n",
        "    </tr>\n",
        "  </tbody>\n",
        "</table>\n",
        "</div>"
       ],
       "metadata": {},
       "output_type": "pyout",
       "prompt_number": 25,
       "text": [
        "    predicted  expected  counts\n",
        "0           0         0     520\n",
        "1           0         1     449\n",
        "2           0         2     179\n",
        "3           0         3      21\n",
        "4           0         4       5\n",
        "5           1         0     851\n",
        "6           1         1    3025\n",
        "7           1         2    1915\n",
        "8           1         3     337\n",
        "9           1         4      35\n",
        "10          2         0     393\n",
        "11          2         1    2931\n",
        "12          2         2   15415\n",
        "13          2         3    3179\n",
        "14          2         4     334\n",
        "15          3         0      55\n",
        "16          3         1     338\n",
        "17          3         2    2203\n",
        "18          3         3    4117\n",
        "19          3         4    1189\n",
        "20          4         0       4\n",
        "21          4         1      22\n",
        "22          4         2     186\n",
        "23          4         3     593\n",
        "24          4         4     719"
       ]
      }
     ],
     "prompt_number": 25
    },
    {
     "cell_type": "markdown",
     "metadata": {},
     "source": [
      "The disadvantage of the above approach is that is doesn't provide any indication of whether the model is being overfit. To correct this problem, we'll look at the respective accuracy scores of the model on both the training data and the test data."
     ]
    },
    {
     "cell_type": "code",
     "collapsed": false,
     "input": [
      "xtrain, xtest, ytrain, ytest = XY_all\n",
      "training_accuracy = mnb.score(xtrain, ytrain)\n",
      "test_accuracy = mnb.score(xtest, ytest)\n",
      "\n",
      "print \"Accuracy on training data: %0.2f\" % (training_accuracy)\n",
      "print \"Accuracy on test data:     %0.2f\" % (test_accuracy)"
     ],
     "language": "python",
     "metadata": {},
     "outputs": [
      {
       "output_type": "stream",
       "stream": "stdout",
       "text": [
        "Accuracy on training data: 0.67\n",
        "Accuracy on test data:     0.61\n"
       ]
      }
     ],
     "prompt_number": 26
    },
    {
     "cell_type": "markdown",
     "metadata": {},
     "source": [
      "It looks like the may be some slight overfitting. To get a better sense for the model's overall performance, we'll use cross validation and see how the mean cross validation score compares to the above score on the test data."
     ]
    },
    {
     "cell_type": "code",
     "collapsed": false,
     "input": [
      "from sklearn.cross_validation import cross_val_score\n",
      "r = cross_val_score(MultinomialNB(), xtrain, ytrain, cv=10) \n",
      "print\n",
      "print \"10-fold Cross Validation Scores: \", core.lreduce(lambda s, f: s + (\"%0.2f, \" % f), r, \"\")\n",
      "print \"Average Score: %0.2f\" % r.mean()"
     ],
     "language": "python",
     "metadata": {},
     "outputs": [
      {
       "output_type": "stream",
       "stream": "stdout",
       "text": [
        "\n",
        "10-fold Cross Validation Scores:  0.60, 0.60, 0.61, 0.61, 0.61, 0.61, 0.61, 0.60, 0.60, 0.60, \n",
        "Average Score: 0.61\n"
       ]
      }
     ],
     "prompt_number": 27
    },
    {
     "cell_type": "markdown",
     "metadata": {},
     "source": [
      "Our model consistently achieves accuracy scores between 60 and 62%. We wanted to see if we achieve any improvement in accuracy by performing a grid search and using different parameters. The results of the grid search below show only the most marginal improvement with tuned parameters. It doens't look like it will deliver the sort of improvements we desire."
     ]
    },
    {
     "cell_type": "code",
     "collapsed": false,
     "input": [
      "alphas = [0.0, 0.5, 1.0, 5, 10, 20, 50]\n",
      "min_df = [0.00001, 0.0001, 0.001, 0.005, 0.01]\n",
      "best_sc = 0.0\n",
      "best_mnb = None\n",
      "best_params = None\n",
      "\n",
      "for md in min_df: \n",
      "    x, y = transform_data(phrases, min_df=md)\n",
      "    xtrain, xtest, ytrain, ytest = split(x, y)\n",
      "    for a in alphas:\n",
      "        clf = MultinomialNB(alpha=a).fit(xtrain, ytrain)\n",
      "        sc = clf.score(xtest, ytest)\n",
      "        if sc > best_sc:\n",
      "            best_params = (a, md)\n",
      "            best_sc = sc\n",
      "            best_mnb = clf"
     ],
     "language": "python",
     "metadata": {},
     "outputs": [],
     "prompt_number": 28
    },
    {
     "cell_type": "code",
     "collapsed": false,
     "input": [
      "print \"Best Parameters: alpha:\\t%0.2f\\tmin_df:\\t%0.5f\" % (best_params[0], best_params[1])\n",
      "print \"Best Accuracy: \", best_sc"
     ],
     "language": "python",
     "metadata": {},
     "outputs": [
      {
       "output_type": "stream",
       "stream": "stdout",
       "text": [
        "Best Parameters: alpha:\t1.00\tmin_df:\t0.00001\n",
        "Best Accuracy:  0.60963731898\n"
       ]
      }
     ],
     "prompt_number": 29
    },
    {
     "cell_type": "markdown",
     "metadata": {},
     "source": [
      "After obtaining an only marginal improvement with a parameter search, we wanted to try another model -- Logistic Regression -- to see if another model might deliver better results. \n",
      "\n",
      "### Logistic Regression Models###"
     ]
    },
    {
     "cell_type": "code",
     "collapsed": false,
     "input": [
      "from sklearn.linear_model import LogisticRegression\n",
      "\n",
      "xtrain, xtest, ytrain, ytest = XY_all\n",
      "clf = LogisticRegression().fit(xtrain, ytrain)\n",
      "\n",
      "lreg_trnscore = clf.score(xtrain, ytrain)\n",
      "lreg_tscore = clf.score(xtest, ytest)\n",
      "\n",
      "print \"Training accuracy %0.2f\" % lreg_trnscore\n",
      "print \"Test accuracy %0.2f\" % lreg_tscore"
     ],
     "language": "python",
     "metadata": {},
     "outputs": [
      {
       "output_type": "stream",
       "stream": "stdout",
       "text": [
        "Training accuracy 0.70\n",
        "Test accuracy 0.64\n"
       ]
      }
     ],
     "prompt_number": 33
    },
    {
     "cell_type": "markdown",
     "metadata": {},
     "source": [
      "    A cursory test using a logistic regression model shows a 3% improvement in performance. We plot the expected"
     ]
    },
    {
     "cell_type": "code",
     "collapsed": false,
     "input": [
      "lreg_pred = clf.predict(xtest)\n",
      "lreg_stats = scatter_exp_vs_pred(expected=ytest, predicted=lreg_pred)"
     ],
     "language": "python",
     "metadata": {},
     "outputs": [
      {
       "metadata": {},
       "output_type": "display_data",
       "png": "[encoded data removed]",
       "text": [
        "<matplotlib.figure.Figure at 0x15c9d4610>"
       ]
      }
     ],
     "prompt_number": 34
    },
    {
     "cell_type": "markdown",
     "metadata": {},
     "source": [
      "To put these number into perspective, we join the lreg_stats data frame to data frame that was returned for the MultinomialNB classifier. The 'comparison' column shows how logistic regression classifications compare to those of the MNB classifier. "
     ]
    },
    {
     "cell_type": "code",
     "collapsed": false,
     "input": [
      "comp = lreg_stats.rename(columns={'counts':'LR_counts'}).merge(rstats, left_on=['predicted', 'expected'], right_on=['predicted', 'expected'])\n",
      "comp['comparison'] = map(lambda x, y: float(x) / y, comp.LR_counts, comp.counts)\n",
      "comp.head(25)"
     ],
     "language": "python",
     "metadata": {},
     "outputs": [
      {
       "html": [
        "<div style=\"max-height:1000px;max-width:1500px;overflow:auto;\">\n",
        "<table border=\"1\" class=\"dataframe\">\n",
        "  <thead>\n",
        "    <tr style=\"text-align: right;\">\n",
        "      <th></th>\n",
        "      <th>predicted</th>\n",
        "      <th>expected</th>\n",
        "      <th>LR_counts</th>\n",
        "      <th>counts</th>\n",
        "      <th>comparison</th>\n",
        "    </tr>\n",
        "  </thead>\n",
        "  <tbody>\n",
        "    <tr>\n",
        "      <th>0 </th>\n",
        "      <td> 0</td>\n",
        "      <td> 0</td>\n",
        "      <td>   490</td>\n",
        "      <td>   520</td>\n",
        "      <td> 0.942308</td>\n",
        "    </tr>\n",
        "    <tr>\n",
        "      <th>1 </th>\n",
        "      <td> 0</td>\n",
        "      <td> 1</td>\n",
        "      <td>   310</td>\n",
        "      <td>   449</td>\n",
        "      <td> 0.690423</td>\n",
        "    </tr>\n",
        "    <tr>\n",
        "      <th>2 </th>\n",
        "      <td> 0</td>\n",
        "      <td> 2</td>\n",
        "      <td>    75</td>\n",
        "      <td>   179</td>\n",
        "      <td> 0.418994</td>\n",
        "    </tr>\n",
        "    <tr>\n",
        "      <th>3 </th>\n",
        "      <td> 0</td>\n",
        "      <td> 3</td>\n",
        "      <td>    12</td>\n",
        "      <td>    21</td>\n",
        "      <td> 0.571429</td>\n",
        "    </tr>\n",
        "    <tr>\n",
        "      <th>4 </th>\n",
        "      <td> 0</td>\n",
        "      <td> 4</td>\n",
        "      <td>     3</td>\n",
        "      <td>     5</td>\n",
        "      <td> 0.600000</td>\n",
        "    </tr>\n",
        "    <tr>\n",
        "      <th>5 </th>\n",
        "      <td> 1</td>\n",
        "      <td> 0</td>\n",
        "      <td>   800</td>\n",
        "      <td>   851</td>\n",
        "      <td> 0.940071</td>\n",
        "    </tr>\n",
        "    <tr>\n",
        "      <th>6 </th>\n",
        "      <td> 1</td>\n",
        "      <td> 1</td>\n",
        "      <td>  2477</td>\n",
        "      <td>  3025</td>\n",
        "      <td> 0.818843</td>\n",
        "    </tr>\n",
        "    <tr>\n",
        "      <th>7 </th>\n",
        "      <td> 1</td>\n",
        "      <td> 2</td>\n",
        "      <td>   998</td>\n",
        "      <td>  1915</td>\n",
        "      <td> 0.521149</td>\n",
        "    </tr>\n",
        "    <tr>\n",
        "      <th>8 </th>\n",
        "      <td> 1</td>\n",
        "      <td> 3</td>\n",
        "      <td>   195</td>\n",
        "      <td>   337</td>\n",
        "      <td> 0.578635</td>\n",
        "    </tr>\n",
        "    <tr>\n",
        "      <th>9 </th>\n",
        "      <td> 1</td>\n",
        "      <td> 4</td>\n",
        "      <td>    20</td>\n",
        "      <td>    35</td>\n",
        "      <td> 0.571429</td>\n",
        "    </tr>\n",
        "    <tr>\n",
        "      <th>10</th>\n",
        "      <td> 2</td>\n",
        "      <td> 0</td>\n",
        "      <td>   494</td>\n",
        "      <td>   393</td>\n",
        "      <td> 1.256997</td>\n",
        "    </tr>\n",
        "    <tr>\n",
        "      <th>11</th>\n",
        "      <td> 2</td>\n",
        "      <td> 1</td>\n",
        "      <td>  3717</td>\n",
        "      <td>  2931</td>\n",
        "      <td> 1.268168</td>\n",
        "    </tr>\n",
        "    <tr>\n",
        "      <th>12</th>\n",
        "      <td> 2</td>\n",
        "      <td> 2</td>\n",
        "      <td> 17708</td>\n",
        "      <td> 15415</td>\n",
        "      <td> 1.148751</td>\n",
        "    </tr>\n",
        "    <tr>\n",
        "      <th>13</th>\n",
        "      <td> 2</td>\n",
        "      <td> 3</td>\n",
        "      <td>  4057</td>\n",
        "      <td>  3179</td>\n",
        "      <td> 1.276187</td>\n",
        "    </tr>\n",
        "    <tr>\n",
        "      <th>14</th>\n",
        "      <td> 2</td>\n",
        "      <td> 4</td>\n",
        "      <td>   378</td>\n",
        "      <td>   334</td>\n",
        "      <td> 1.131737</td>\n",
        "    </tr>\n",
        "    <tr>\n",
        "      <th>15</th>\n",
        "      <td> 3</td>\n",
        "      <td> 0</td>\n",
        "      <td>    34</td>\n",
        "      <td>    55</td>\n",
        "      <td> 0.618182</td>\n",
        "    </tr>\n",
        "    <tr>\n",
        "      <th>16</th>\n",
        "      <td> 3</td>\n",
        "      <td> 1</td>\n",
        "      <td>   247</td>\n",
        "      <td>   338</td>\n",
        "      <td> 0.730769</td>\n",
        "    </tr>\n",
        "    <tr>\n",
        "      <th>17</th>\n",
        "      <td> 3</td>\n",
        "      <td> 2</td>\n",
        "      <td>  1080</td>\n",
        "      <td>  2203</td>\n",
        "      <td> 0.490241</td>\n",
        "    </tr>\n",
        "    <tr>\n",
        "      <th>18</th>\n",
        "      <td> 3</td>\n",
        "      <td> 3</td>\n",
        "      <td>  3512</td>\n",
        "      <td>  4117</td>\n",
        "      <td> 0.853048</td>\n",
        "    </tr>\n",
        "    <tr>\n",
        "      <th>19</th>\n",
        "      <td> 3</td>\n",
        "      <td> 4</td>\n",
        "      <td>  1156</td>\n",
        "      <td>  1189</td>\n",
        "      <td> 0.972246</td>\n",
        "    </tr>\n",
        "    <tr>\n",
        "      <th>20</th>\n",
        "      <td> 4</td>\n",
        "      <td> 0</td>\n",
        "      <td>     5</td>\n",
        "      <td>     4</td>\n",
        "      <td> 1.250000</td>\n",
        "    </tr>\n",
        "    <tr>\n",
        "      <th>21</th>\n",
        "      <td> 4</td>\n",
        "      <td> 1</td>\n",
        "      <td>    14</td>\n",
        "      <td>    22</td>\n",
        "      <td> 0.636364</td>\n",
        "    </tr>\n",
        "    <tr>\n",
        "      <th>22</th>\n",
        "      <td> 4</td>\n",
        "      <td> 2</td>\n",
        "      <td>    37</td>\n",
        "      <td>   186</td>\n",
        "      <td> 0.198925</td>\n",
        "    </tr>\n",
        "    <tr>\n",
        "      <th>23</th>\n",
        "      <td> 4</td>\n",
        "      <td> 3</td>\n",
        "      <td>   471</td>\n",
        "      <td>   593</td>\n",
        "      <td> 0.794266</td>\n",
        "    </tr>\n",
        "    <tr>\n",
        "      <th>24</th>\n",
        "      <td> 4</td>\n",
        "      <td> 4</td>\n",
        "      <td>   725</td>\n",
        "      <td>   719</td>\n",
        "      <td> 1.008345</td>\n",
        "    </tr>\n",
        "  </tbody>\n",
        "</table>\n",
        "</div>"
       ],
       "metadata": {},
       "output_type": "pyout",
       "prompt_number": 35,
       "text": [
        "    predicted  expected  LR_counts  counts  comparison\n",
        "0           0         0        490     520    0.942308\n",
        "1           0         1        310     449    0.690423\n",
        "2           0         2         75     179    0.418994\n",
        "3           0         3         12      21    0.571429\n",
        "4           0         4          3       5    0.600000\n",
        "5           1         0        800     851    0.940071\n",
        "6           1         1       2477    3025    0.818843\n",
        "7           1         2        998    1915    0.521149\n",
        "8           1         3        195     337    0.578635\n",
        "9           1         4         20      35    0.571429\n",
        "10          2         0        494     393    1.256997\n",
        "11          2         1       3717    2931    1.268168\n",
        "12          2         2      17708   15415    1.148751\n",
        "13          2         3       4057    3179    1.276187\n",
        "14          2         4        378     334    1.131737\n",
        "15          3         0         34      55    0.618182\n",
        "16          3         1        247     338    0.730769\n",
        "17          3         2       1080    2203    0.490241\n",
        "18          3         3       3512    4117    0.853048\n",
        "19          3         4       1156    1189    0.972246\n",
        "20          4         0          5       4    1.250000\n",
        "21          4         1         14      22    0.636364\n",
        "22          4         2         37     186    0.198925\n",
        "23          4         3        471     593    0.794266\n",
        "24          4         4        725     719    1.008345"
       ]
      }
     ],
     "prompt_number": 35
    },
    {
     "cell_type": "code",
     "collapsed": false,
     "input": [
      "outperform = comp[(comp.comparison > 1) & (comp.expected == comp.predicted)]\n",
      "outperform.head()"
     ],
     "language": "python",
     "metadata": {},
     "outputs": [
      {
       "html": [
        "<div style=\"max-height:1000px;max-width:1500px;overflow:auto;\">\n",
        "<table border=\"1\" class=\"dataframe\">\n",
        "  <thead>\n",
        "    <tr style=\"text-align: right;\">\n",
        "      <th></th>\n",
        "      <th>predicted</th>\n",
        "      <th>expected</th>\n",
        "      <th>LR_counts</th>\n",
        "      <th>counts</th>\n",
        "      <th>comparison</th>\n",
        "    </tr>\n",
        "  </thead>\n",
        "  <tbody>\n",
        "    <tr>\n",
        "      <th>12</th>\n",
        "      <td> 2</td>\n",
        "      <td> 2</td>\n",
        "      <td> 17708</td>\n",
        "      <td> 15415</td>\n",
        "      <td> 1.148751</td>\n",
        "    </tr>\n",
        "    <tr>\n",
        "      <th>24</th>\n",
        "      <td> 4</td>\n",
        "      <td> 4</td>\n",
        "      <td>   725</td>\n",
        "      <td>   719</td>\n",
        "      <td> 1.008345</td>\n",
        "    </tr>\n",
        "  </tbody>\n",
        "</table>\n",
        "</div>"
       ],
       "metadata": {},
       "output_type": "pyout",
       "prompt_number": 36,
       "text": [
        "    predicted  expected  LR_counts  counts  comparison\n",
        "12          2         2      17708   15415    1.148751\n",
        "24          4         4        725     719    1.008345"
       ]
      }
     ],
     "prompt_number": 36
    },
    {
     "cell_type": "markdown",
     "metadata": {},
     "source": [
      "We see that logistic regression is doing better primarily as a result of guess 2s much better than MNB. Next, we want to see if we can tune our logistic regression model by testing different smoothing paramters. For this we use a grid search to test values between 2 and 5."
     ]
    },
    {
     "cell_type": "code",
     "collapsed": false,
     "input": [
      "# use cross validation to find the optimal value for k\n",
      "from sklearn.grid_search import GridSearchCV\n",
      "c = np.arange(2, 5, 0.4)\n",
      "param = {'C': c}\n",
      "lreg = LogisticRegression()\n",
      "clf2 = GridSearchCV(lreg, param, cv=3)\n",
      "clf2.fit(xtrain, ytrain)"
     ],
     "language": "python",
     "metadata": {},
     "outputs": [
      {
       "metadata": {},
       "output_type": "pyout",
       "prompt_number": 37,
       "text": [
        "GridSearchCV(cv=3,\n",
        "       estimator=LogisticRegression(C=1.0, class_weight=None, dual=False, fit_intercept=True,\n",
        "          intercept_scaling=1, penalty='l2', random_state=None, tol=0.0001),\n",
        "       fit_params={}, iid=True, loss_func=None, n_jobs=1,\n",
        "       param_grid={'C': array([ 2. ,  2.4,  2.8,  3.2,  3.6,  4. ,  4.4,  4.8])},\n",
        "       pre_dispatch='2*n_jobs', refit=True, score_func=None, scoring=None,\n",
        "       verbose=0)"
       ]
      }
     ],
     "prompt_number": 37
    },
    {
     "cell_type": "code",
     "collapsed": false,
     "input": [
      "# visualize scores\n",
      "a = clf2.grid_scores_\n",
      "scores = [b.cv_validation_scores for b in a]\n",
      "\n",
      "def plot_gs_results(scores):\n",
      "    fig = plt.figure(figsize=(12, 12))\n",
      "\n",
      "    # Add a boxplot of score per C value\n",
      "    ax1 = fig.add_subplot(211)\n",
      "    sns.boxplot(scores, ax=ax1)\n",
      "    plt.title('Distribution of Accuracy Scores as a Function of $C$')\n",
      "    plt.ylabel('Prediction Accuracy')\n",
      "    plt.xticks(np.arange(1,9,1), [str(x) for x in param['C']])\n",
      "\n",
      "    # Add a plot of the mean scores\n",
      "    ax2 = fig.add_subplot(212)\n",
      "    plt.title('Mean Accuracy Score as a Function of $C$')\n",
      "    plt.xlabel('Choice of C')\n",
      "    plt.ylabel('Prediction Accuracy')\n",
      "    plt.scatter(xrange(1,9), np.mean(scores, axis=1), c='C', marker='o')\n",
      "    plt.xticks(np.arange(1,9,1), [str(x) for x in param['C']])\n",
      "    plt.xlabel('Choice of C')\n",
      "    plt.show()\n",
      "    None\n",
      "\n",
      "plot_gs_results(scores)"
     ],
     "language": "python",
     "metadata": {},
     "outputs": [
      {
       "metadata": {},
       "output_type": "display_data",
       "png": "[encoded data removed]",
       "text": [
        "<matplotlib.figure.Figure at 0x119ac3c90>"
       ]
      }
     ],
     "prompt_number": 398
    },
    {
     "cell_type": "markdown",
     "metadata": {},
     "source": [
      "Based on the plot above, we can see that $2.8$ provides the best value for C, although the difference between each value is $C$ is nearly negligible."
     ]
    },
    {
     "cell_type": "code",
     "collapsed": false,
     "input": [
      "opti_clf = LogisticRegression(C = 2.8).fit(xtrain, ytrain)\n",
      "print \"Accuracy: %0.5f%%\" % opti_clf.score(xtest,ytest)"
     ],
     "language": "python",
     "metadata": {},
     "outputs": [
      {
       "output_type": "stream",
       "stream": "stdout",
       "text": [
        "Accuracy: 0.64188%\n"
       ]
      }
     ],
     "prompt_number": 377
    },
    {
     "cell_type": "markdown",
     "metadata": {},
     "source": [
      "####Support Vector Machines####\n",
      "Finally, we wanted to see how accurate an SVM model would do against this data set. SVM models, while less computationally effeccient, as supposed to generally perform well with sentiment analysis taks."
     ]
    },
    {
     "cell_type": "code",
     "collapsed": false,
     "input": [
      "from sklearn.svm import LinearSVC\n",
      "\n",
      "svc = LinearSVC().fit(xtrain, ytrain)\n",
      "svc_train_scr = svc.score(xtrain, ytrain)\n",
      "svc_test_scr = svc.score(xtest, ytest)\n",
      "print \"SVC Accuracy (train) %0.4f\" % svc_train_scr\n",
      "print \"SVC Accuracy (test) %0.4f\" % svc_test_scr"
     ],
     "language": "python",
     "metadata": {},
     "outputs": [
      {
       "output_type": "stream",
       "stream": "stdout",
       "text": [
        "SVC Accuracy (train) 0.7353\n",
        "SVC Accuracy (test) 0.6364\n"
       ]
      }
     ],
     "prompt_number": 399
    },
    {
     "cell_type": "code",
     "collapsed": false,
     "input": [
      "svc_preds = svc.predict(xtest)\n",
      "svc_stats = scatter_exp_vs_pred(expected=ytest, predicted=svc_preds)"
     ],
     "language": "python",
     "metadata": {},
     "outputs": [
      {
       "metadata": {},
       "output_type": "display_data",
       "png": "[encoded data removed]",
       "text": [
        "<matplotlib.figure.Figure at 0x11beb63d0>"
       ]
      }
     ],
     "prompt_number": 407
    },
    {
     "cell_type": "code",
     "collapsed": false,
     "input": [
      "comp = comp.merge(svc_stats.rename(columns={'counts': 'svc_counts'}), \n",
      "                   left_on=['predicted', 'expected'], right_on=['predicted', 'expected'])\n",
      "comp['svc_comparison'] =  map(lambda x, y: float(x) / y, comp.svc_counts, comp.counts)\n",
      "comp.head(25)"
     ],
     "language": "python",
     "metadata": {},
     "outputs": [
      {
       "html": [
        "<div style=\"max-height:1000px;max-width:1500px;overflow:auto;\">\n",
        "<table border=\"1\" class=\"dataframe\">\n",
        "  <thead>\n",
        "    <tr style=\"text-align: right;\">\n",
        "      <th></th>\n",
        "      <th>predicted</th>\n",
        "      <th>expected</th>\n",
        "      <th>LR_counts</th>\n",
        "      <th>counts</th>\n",
        "      <th>comparison</th>\n",
        "      <th>svc_counts</th>\n",
        "      <th>svc_comparison</th>\n",
        "    </tr>\n",
        "  </thead>\n",
        "  <tbody>\n",
        "    <tr>\n",
        "      <th>0 </th>\n",
        "      <td> 0</td>\n",
        "      <td> 0</td>\n",
        "      <td>   494</td>\n",
        "      <td>   505</td>\n",
        "      <td> 0.978218</td>\n",
        "      <td>   643</td>\n",
        "      <td> 1.273267</td>\n",
        "    </tr>\n",
        "    <tr>\n",
        "      <th>1 </th>\n",
        "      <td> 0</td>\n",
        "      <td> 1</td>\n",
        "      <td>   324</td>\n",
        "      <td>   487</td>\n",
        "      <td> 0.665298</td>\n",
        "      <td>   509</td>\n",
        "      <td> 1.045175</td>\n",
        "    </tr>\n",
        "    <tr>\n",
        "      <th>2 </th>\n",
        "      <td> 0</td>\n",
        "      <td> 2</td>\n",
        "      <td>    70</td>\n",
        "      <td>   178</td>\n",
        "      <td> 0.393258</td>\n",
        "      <td>   134</td>\n",
        "      <td> 0.752809</td>\n",
        "    </tr>\n",
        "    <tr>\n",
        "      <th>3 </th>\n",
        "      <td> 0</td>\n",
        "      <td> 3</td>\n",
        "      <td>    15</td>\n",
        "      <td>    16</td>\n",
        "      <td> 0.937500</td>\n",
        "      <td>    20</td>\n",
        "      <td> 1.250000</td>\n",
        "    </tr>\n",
        "    <tr>\n",
        "      <th>4 </th>\n",
        "      <td> 1</td>\n",
        "      <td> 0</td>\n",
        "      <td>   800</td>\n",
        "      <td>   831</td>\n",
        "      <td> 0.962696</td>\n",
        "      <td>   792</td>\n",
        "      <td> 0.953069</td>\n",
        "    </tr>\n",
        "    <tr>\n",
        "      <th>5 </th>\n",
        "      <td> 1</td>\n",
        "      <td> 1</td>\n",
        "      <td>  2452</td>\n",
        "      <td>  2992</td>\n",
        "      <td> 0.819519</td>\n",
        "      <td>  2827</td>\n",
        "      <td> 0.944853</td>\n",
        "    </tr>\n",
        "    <tr>\n",
        "      <th>6 </th>\n",
        "      <td> 1</td>\n",
        "      <td> 2</td>\n",
        "      <td>  1074</td>\n",
        "      <td>  1927</td>\n",
        "      <td> 0.557343</td>\n",
        "      <td>  1461</td>\n",
        "      <td> 0.758173</td>\n",
        "    </tr>\n",
        "    <tr>\n",
        "      <th>7 </th>\n",
        "      <td> 1</td>\n",
        "      <td> 3</td>\n",
        "      <td>   220</td>\n",
        "      <td>   367</td>\n",
        "      <td> 0.599455</td>\n",
        "      <td>   255</td>\n",
        "      <td> 0.694823</td>\n",
        "    </tr>\n",
        "    <tr>\n",
        "      <th>8 </th>\n",
        "      <td> 1</td>\n",
        "      <td> 4</td>\n",
        "      <td>    33</td>\n",
        "      <td>    41</td>\n",
        "      <td> 0.804878</td>\n",
        "      <td>    23</td>\n",
        "      <td> 0.560976</td>\n",
        "    </tr>\n",
        "    <tr>\n",
        "      <th>9 </th>\n",
        "      <td> 2</td>\n",
        "      <td> 0</td>\n",
        "      <td>   461</td>\n",
        "      <td>   401</td>\n",
        "      <td> 1.149626</td>\n",
        "      <td>   321</td>\n",
        "      <td> 0.800499</td>\n",
        "    </tr>\n",
        "    <tr>\n",
        "      <th>10</th>\n",
        "      <td> 2</td>\n",
        "      <td> 1</td>\n",
        "      <td>  3733</td>\n",
        "      <td>  2925</td>\n",
        "      <td> 1.276239</td>\n",
        "      <td>  3134</td>\n",
        "      <td> 1.071453</td>\n",
        "    </tr>\n",
        "    <tr>\n",
        "      <th>11</th>\n",
        "      <td> 2</td>\n",
        "      <td> 2</td>\n",
        "      <td> 17659</td>\n",
        "      <td> 15385</td>\n",
        "      <td> 1.147806</td>\n",
        "      <td> 16800</td>\n",
        "      <td> 1.091973</td>\n",
        "    </tr>\n",
        "    <tr>\n",
        "      <th>12</th>\n",
        "      <td> 2</td>\n",
        "      <td> 3</td>\n",
        "      <td>  4049</td>\n",
        "      <td>  3202</td>\n",
        "      <td> 1.264522</td>\n",
        "      <td>  3652</td>\n",
        "      <td> 1.140537</td>\n",
        "    </tr>\n",
        "    <tr>\n",
        "      <th>13</th>\n",
        "      <td> 2</td>\n",
        "      <td> 4</td>\n",
        "      <td>   363</td>\n",
        "      <td>   316</td>\n",
        "      <td> 1.148734</td>\n",
        "      <td>   261</td>\n",
        "      <td> 0.825949</td>\n",
        "    </tr>\n",
        "    <tr>\n",
        "      <th>14</th>\n",
        "      <td> 3</td>\n",
        "      <td> 0</td>\n",
        "      <td>    41</td>\n",
        "      <td>    59</td>\n",
        "      <td> 0.694915</td>\n",
        "      <td>    37</td>\n",
        "      <td> 0.627119</td>\n",
        "    </tr>\n",
        "    <tr>\n",
        "      <th>15</th>\n",
        "      <td> 3</td>\n",
        "      <td> 1</td>\n",
        "      <td>   232</td>\n",
        "      <td>   328</td>\n",
        "      <td> 0.707317</td>\n",
        "      <td>   269</td>\n",
        "      <td> 0.820122</td>\n",
        "    </tr>\n",
        "    <tr>\n",
        "      <th>16</th>\n",
        "      <td> 3</td>\n",
        "      <td> 2</td>\n",
        "      <td>  1066</td>\n",
        "      <td>  2251</td>\n",
        "      <td> 0.473567</td>\n",
        "      <td>  1434</td>\n",
        "      <td> 0.637050</td>\n",
        "    </tr>\n",
        "    <tr>\n",
        "      <th>17</th>\n",
        "      <td> 3</td>\n",
        "      <td> 3</td>\n",
        "      <td>  3523</td>\n",
        "      <td>  4106</td>\n",
        "      <td> 0.858013</td>\n",
        "      <td>  3642</td>\n",
        "      <td> 0.886995</td>\n",
        "    </tr>\n",
        "    <tr>\n",
        "      <th>18</th>\n",
        "      <td> 3</td>\n",
        "      <td> 4</td>\n",
        "      <td>  1165</td>\n",
        "      <td>  1186</td>\n",
        "      <td> 0.982293</td>\n",
        "      <td>  1105</td>\n",
        "      <td> 0.931703</td>\n",
        "    </tr>\n",
        "    <tr>\n",
        "      <th>19</th>\n",
        "      <td> 4</td>\n",
        "      <td> 0</td>\n",
        "      <td>     7</td>\n",
        "      <td>     7</td>\n",
        "      <td> 1.000000</td>\n",
        "      <td>    10</td>\n",
        "      <td> 1.428571</td>\n",
        "    </tr>\n",
        "    <tr>\n",
        "      <th>20</th>\n",
        "      <td> 4</td>\n",
        "      <td> 1</td>\n",
        "      <td>    18</td>\n",
        "      <td>    27</td>\n",
        "      <td> 0.666667</td>\n",
        "      <td>    20</td>\n",
        "      <td> 0.740741</td>\n",
        "    </tr>\n",
        "    <tr>\n",
        "      <th>21</th>\n",
        "      <td> 4</td>\n",
        "      <td> 2</td>\n",
        "      <td>    46</td>\n",
        "      <td>   174</td>\n",
        "      <td> 0.264368</td>\n",
        "      <td>    86</td>\n",
        "      <td> 0.494253</td>\n",
        "    </tr>\n",
        "    <tr>\n",
        "      <th>22</th>\n",
        "      <td> 4</td>\n",
        "      <td> 3</td>\n",
        "      <td>   424</td>\n",
        "      <td>   540</td>\n",
        "      <td> 0.785185</td>\n",
        "      <td>   662</td>\n",
        "      <td> 1.225926</td>\n",
        "    </tr>\n",
        "    <tr>\n",
        "      <th>23</th>\n",
        "      <td> 4</td>\n",
        "      <td> 4</td>\n",
        "      <td>   746</td>\n",
        "      <td>   764</td>\n",
        "      <td> 0.976440</td>\n",
        "      <td>   917</td>\n",
        "      <td> 1.200262</td>\n",
        "    </tr>\n",
        "  </tbody>\n",
        "</table>\n",
        "</div>"
       ],
       "metadata": {},
       "output_type": "pyout",
       "prompt_number": 409,
       "text": [
        "    predicted  expected  LR_counts  counts  comparison  svc_counts  \\\n",
        "0           0         0        494     505    0.978218         643   \n",
        "1           0         1        324     487    0.665298         509   \n",
        "2           0         2         70     178    0.393258         134   \n",
        "3           0         3         15      16    0.937500          20   \n",
        "4           1         0        800     831    0.962696         792   \n",
        "5           1         1       2452    2992    0.819519        2827   \n",
        "6           1         2       1074    1927    0.557343        1461   \n",
        "7           1         3        220     367    0.599455         255   \n",
        "8           1         4         33      41    0.804878          23   \n",
        "9           2         0        461     401    1.149626         321   \n",
        "10          2         1       3733    2925    1.276239        3134   \n",
        "11          2         2      17659   15385    1.147806       16800   \n",
        "12          2         3       4049    3202    1.264522        3652   \n",
        "13          2         4        363     316    1.148734         261   \n",
        "14          3         0         41      59    0.694915          37   \n",
        "15          3         1        232     328    0.707317         269   \n",
        "16          3         2       1066    2251    0.473567        1434   \n",
        "17          3         3       3523    4106    0.858013        3642   \n",
        "18          3         4       1165    1186    0.982293        1105   \n",
        "19          4         0          7       7    1.000000          10   \n",
        "20          4         1         18      27    0.666667          20   \n",
        "21          4         2         46     174    0.264368          86   \n",
        "22          4         3        424     540    0.785185         662   \n",
        "23          4         4        746     764    0.976440         917   \n",
        "\n",
        "    svc_comparison  \n",
        "0         1.273267  \n",
        "1         1.045175  \n",
        "2         0.752809  \n",
        "3         1.250000  \n",
        "4         0.953069  \n",
        "5         0.944853  \n",
        "6         0.758173  \n",
        "7         0.694823  \n",
        "8         0.560976  \n",
        "9         0.800499  \n",
        "10        1.071453  \n",
        "11        1.091973  \n",
        "12        1.140537  \n",
        "13        0.825949  \n",
        "14        0.627119  \n",
        "15        0.820122  \n",
        "16        0.637050  \n",
        "17        0.886995  \n",
        "18        0.931703  \n",
        "19        1.428571  \n",
        "20        0.740741  \n",
        "21        0.494253  \n",
        "22        1.225926  \n",
        "23        1.200262  "
       ]
      }
     ],
     "prompt_number": 409
    },
    {
     "cell_type": "markdown",
     "metadata": {},
     "source": [
      "We can see here that SVC compares quite favorably to logistic regression and multinomial Bayes with improvements in correctly guessing almost every category. Unfortunately, this method *is* very computationally heavy which makes additional analysis with this method somewhat cumbersome."
     ]
    },
    {
     "cell_type": "markdown",
     "metadata": {},
     "source": [
      "###Delving Deeper into Each Model's Predictive Accuracy###\n",
      "While the predictive accuracy of these models is actually not bad, it can be somewhat misleading. The issue is that the distribution of classes within the data set is not normal; the vast majority of samples are 2s. This means that any model with a \"high recall\" of 2 will actually do fairly well against this data set. What we do not get is an accurate sense of how well our model would perform against any arbitrary sample. To assess each model's predictive abilities more accurately then, we should try to test our models on a data set of balanced classes.\n",
      "\n",
      "To begin, we'll create balanced test and training data sets and run our models against these. We should expect to see the predictive accuracy drop significantly, especially given earlier analysis that showed most of the models' accuracy coming from correctly predicting 2s.\n",
      "\n",
      "####Splitting the Data into Balanced Data Sets####\n",
      "We define a utility function that splits the data into balanced classes, then train our models and analyze the results as before."
     ]
    },
    {
     "cell_type": "code",
     "collapsed": false,
     "input": [],
     "language": "python",
     "metadata": {},
     "outputs": []
    },
    {
     "cell_type": "code",
     "collapsed": false,
     "input": [
      "# Create a data set with balanced classes. The class with the least number of samples is '0', with only 7072.\n",
      "smallest = phrases.groupby('sentiment').count().min()[0]\n",
      "print \"Smallest Class Size: \", smallest "
     ],
     "language": "python",
     "metadata": {},
     "outputs": [
      {
       "output_type": "stream",
       "stream": "stdout",
       "text": [
        "Smallest Class Size:  7072\n"
       ]
      }
     ],
     "prompt_number": 384
    },
    {
     "cell_type": "code",
     "collapsed": false,
     "input": [
      "zeroes = phrases[phrases.sentiment == 0]\n",
      "ones = phrases[phrases.sentiment == 1]\n",
      "twos = phrases[phrases.sentiment == 2]\n",
      "threes = phrases[phrases.sentiment == 3]\n",
      "fours = phrases[phrases.sentiment == 4]\n",
      "\n",
      "ones_samples = ones.loc[np.random.choice(ones.index, smallest, replace=False)]\n",
      "twos_samples = twos.loc[np.random.choice(twos.index, smallest, replace=False)]\n",
      "threes_samples = threes.loc[np.random.choice(threes.index, smallest, replace=False)]\n",
      "fours_samples = fours.loc[np.random.choice(fours.index, smallest, replace=False)]\n",
      "\n",
      "bal_reviews = pd.concat([zeroes, ones_samples, twos_samples, threes_samples, fours_samples])"
     ],
     "language": "python",
     "metadata": {},
     "outputs": [],
     "prompt_number": 401
    },
    {
     "cell_type": "code",
     "collapsed": false,
     "input": [
      "# Transform and Split the balanced data set.\n",
      "XY_bal = transform_data(bal_reviews)\n",
      "XY_bal_all = split(XY_bal[0], XY_bal[1])"
     ],
     "language": "python",
     "metadata": {},
     "outputs": [],
     "prompt_number": 402
    },
    {
     "cell_type": "code",
     "collapsed": false,
     "input": [
      "bal_models = [test_model(m, XY_bal_all) for m in [MultinomialNB(alpha=1.0), LogisticRegression(C=2.8), LinearSVC()]]"
     ],
     "language": "python",
     "metadata": {},
     "outputs": [
      {
       "output_type": "stream",
       "stream": "stdout",
       "text": [
        "Model[MultinomialNB(alpha=1.0, class_prior=None, fit_prior=True)] Accuracy: 0.48%\n",
        "Model[LogisticRegression(C=2.8, class_weight=None, dual=False, fit_intercept=True,\n",
        "          intercept_scaling=1, penalty=l2, random_state=None, tol=0.0001)] Accuracy: 0.54%"
       ]
      },
      {
       "output_type": "stream",
       "stream": "stdout",
       "text": [
        "\n",
        "Model[LinearSVC(C=1.0, class_weight=None, dual=True, fit_intercept=True,\n",
        "     intercept_scaling=1, loss=l2, multi_class=ovr, penalty=l2,\n",
        "     random_state=None, tol=0.0001, verbose=0)] Accuracy: 0.53%"
       ]
      },
      {
       "output_type": "stream",
       "stream": "stdout",
       "text": [
        "\n"
       ]
      }
     ],
     "prompt_number": 411
    },
    {
     "cell_type": "code",
     "collapsed": false,
     "input": [
      "ypreds = [m.predict(XY_bal_all[1]) for m in bal_models]\n",
      "bal_stats = [scatter_exp_vs_pred(expected=XY_bal_all[3], predicted=p) for p in ypreds]"
     ],
     "language": "python",
     "metadata": {},
     "outputs": [
      {
       "metadata": {},
       "output_type": "display_data",
       "png": "[encoded data removed]",
       "text": [
        "<matplotlib.figure.Figure at 0x10bcaa850>"
       ]
      },
      {
       "metadata": {},
       "output_type": "display_data",
       "png": "[encoded data removed]",
       "text": [
        "<matplotlib.figure.Figure at 0x11c4b9c10>"
       ]
      },
      {
       "metadata": {},
       "output_type": "display_data",
       "png": "[encoded data removed]",
       "text": [
        "<matplotlib.figure.Figure at 0x11d0bb3d0>"
       ]
      }
     ],
     "prompt_number": 412
    },
    {
     "cell_type": "markdown",
     "metadata": {},
     "source": [
      "As expected, the predictive accuracy of all of the previously explored models saw declines of 10% or more. Balancing the data set has yieleded another interesting insight: namely that comparatively, each models accuracy in predicting the more polarized sentiment classes now seems even better than their accuracy at detecting the neutral phrases."
     ]
    },
    {
     "cell_type": "markdown",
     "metadata": {},
     "source": [
      "####Binarizing the Data Set - Switching to Coarse-Grained Sentiment Analysis####\n",
      "Such fine grained sentiment analysis is acutally quite difficult. Many sentiment analysis tasks that appear in popular publications focus on more coarse-grained classification: a phrase is categorized as either positive or negative. \n",
      "\n",
      "We wanted to get a sense for how accurately we could predict sentiments when they fall into one of these two classifications. To do this, we created a \"new\" data set from the Kaggle data set by removing all neutral reviews (the 2s) and mapping the classes 0 and 1 to \"negative\" reviews, and 3 and 4 to \"positive.\""
     ]
    },
    {
     "cell_type": "code",
     "collapsed": false,
     "input": [
      "#create dataset of binarized sentiments to positive and negative.\n",
      "bin_reviews = phrases[(phrases.sentiment != 2)]\n",
      "sents = bin_reviews.sentiment.tolist()\n",
      "\n",
      "bin_sents = []\n",
      "for i in sents:\n",
      "    if (i == 1) | (i == 0):\n",
      "        bin_sents.append(0)\n",
      "    else:\n",
      "        bin_sents.append(1)\n",
      "        \n",
      "#create DF of binary sentiments\n",
      "bin_reviews = bin_reviews.drop(['sentiment'], axis = 1)\n",
      "bin_reviews['sentiment'] = bin_sents"
     ],
     "language": "python",
     "metadata": {},
     "outputs": [],
     "prompt_number": 413
    },
    {
     "cell_type": "code",
     "collapsed": false,
     "input": [
      "bin_reviews.head()"
     ],
     "language": "python",
     "metadata": {},
     "outputs": [
      {
       "html": [
        "<div style=\"max-height:1000px;max-width:1500px;overflow:auto;\">\n",
        "<table border=\"1\" class=\"dataframe\">\n",
        "  <thead>\n",
        "    <tr style=\"text-align: right;\">\n",
        "      <th></th>\n",
        "      <th>phraseid</th>\n",
        "      <th>sentenceid</th>\n",
        "      <th>phrase</th>\n",
        "      <th>sentiment</th>\n",
        "    </tr>\n",
        "  </thead>\n",
        "  <tbody>\n",
        "    <tr>\n",
        "      <th>0 </th>\n",
        "      <td>  1</td>\n",
        "      <td> 1</td>\n",
        "      <td> a series of escapades demonstrating the adage ...</td>\n",
        "      <td> 0</td>\n",
        "    </tr>\n",
        "    <tr>\n",
        "      <th>21</th>\n",
        "      <td> 22</td>\n",
        "      <td> 1</td>\n",
        "      <td>                                good for the goose</td>\n",
        "      <td> 1</td>\n",
        "    </tr>\n",
        "    <tr>\n",
        "      <th>22</th>\n",
        "      <td> 23</td>\n",
        "      <td> 1</td>\n",
        "      <td>                                              good</td>\n",
        "      <td> 1</td>\n",
        "    </tr>\n",
        "    <tr>\n",
        "      <th>33</th>\n",
        "      <td> 34</td>\n",
        "      <td> 1</td>\n",
        "      <td> the gander , some of which occasionally amuses...</td>\n",
        "      <td> 0</td>\n",
        "    </tr>\n",
        "    <tr>\n",
        "      <th>46</th>\n",
        "      <td> 47</td>\n",
        "      <td> 1</td>\n",
        "      <td>                                            amuses</td>\n",
        "      <td> 1</td>\n",
        "    </tr>\n",
        "  </tbody>\n",
        "</table>\n",
        "</div>"
       ],
       "metadata": {},
       "output_type": "pyout",
       "prompt_number": 414,
       "text": [
        "    phraseid  sentenceid                                             phrase  \\\n",
        "0          1           1  a series of escapades demonstrating the adage ...   \n",
        "21        22           1                                 good for the goose   \n",
        "22        23           1                                               good   \n",
        "33        34           1  the gander , some of which occasionally amuses...   \n",
        "46        47           1                                             amuses   \n",
        "\n",
        "    sentiment  \n",
        "0           0  \n",
        "21          1  \n",
        "22          1  \n",
        "33          0  \n",
        "46          1  "
       ]
      }
     ],
     "prompt_number": 414
    },
    {
     "cell_type": "code",
     "collapsed": false,
     "input": [
      "X_bin, Y_bin = transform_data(bin_reviews)\n",
      "XY_bin_all = split(X_bin, Y_bin)\n",
      "xbtrain, xbtest, ybtrain, ybtest = XY_bin_all\n",
      "[test_model(m, XY_bin_all) for m in [MultinomialNB(alpha=1.0), LogisticRegression(C=2.8), LinearSVC()]]"
     ],
     "language": "python",
     "metadata": {},
     "outputs": [
      {
       "output_type": "stream",
       "stream": "stdout",
       "text": [
        "Model[MultinomialNB(alpha=1.0, class_prior=None, fit_prior=True)] Accuracy: 0.86%\n",
        "Model[LogisticRegression(C=2.8, class_weight=None, dual=False, fit_intercept=True,\n",
        "          intercept_scaling=1, penalty=l2, random_state=None, tol=0.0001)] Accuracy: 0.89%"
       ]
      },
      {
       "output_type": "stream",
       "stream": "stdout",
       "text": [
        "\n",
        "Model[LinearSVC(C=1.0, class_weight=None, dual=True, fit_intercept=True,\n",
        "     intercept_scaling=1, loss=l2, multi_class=ovr, penalty=l2,\n",
        "     random_state=None, tol=0.0001, verbose=0)] Accuracy: 0.89%"
       ]
      },
      {
       "output_type": "stream",
       "stream": "stdout",
       "text": [
        "\n"
       ]
      },
      {
       "metadata": {},
       "output_type": "pyout",
       "prompt_number": 415,
       "text": [
        "[MultinomialNB(alpha=1.0, class_prior=None, fit_prior=True),\n",
        " LogisticRegression(C=2.8, class_weight=None, dual=False, fit_intercept=True,\n",
        "           intercept_scaling=1, penalty='l2', random_state=None, tol=0.0001),\n",
        " LinearSVC(C=1.0, class_weight=None, dual=True, fit_intercept=True,\n",
        "      intercept_scaling=1, loss='l2', multi_class='ovr', penalty='l2',\n",
        "      random_state=None, tol=0.0001, verbose=0)]"
       ]
      }
     ],
     "prompt_number": 415
    },
    {
     "cell_type": "markdown",
     "metadata": {},
     "source": [
      "As we can see, using this coarse-grained sentiment detection we obtain really impressive accuracy. \n",
      "\n",
      "One of the persistent problems with sentiment analysis is being able to deal effectively with modifying words that negate or change the meaning of other words. "
     ]
    },
    {
     "cell_type": "code",
     "collapsed": false,
     "input": [
      "'''\n",
      "Function\n",
      "--------\n",
      "Prepare specific dataset and run specific model on it.\n",
      "Vectorizes and splits data into train and test sets, then fits data to the model decided upon and prints out \n",
      "accuracy scores.\n",
      "\n",
      "Parameters\n",
      "----------\n",
      "revs: reviews dataframe. The original \"reviews\" set, the \"stop_reviews\" set, the \"bal_reviews\" dataset, \n",
      "or the \"bin_reviews\" dataset\n",
      "model: 'Bayes', 'Logistic' or 'SVC'\n",
      "\n",
      "Returns\n",
      "-------\n",
      "prints out accuracy score \n",
      "'''\n",
      "\n",
      "def reviews_and_model(revs, model):\n",
      "    #vectorize dataset\n",
      "    rarray = revs.phrase.tolist()\n",
      "    vectorizer = CountVectorizer(min_df=0.00, binary=True)\n",
      "    vectorizer.fit(rarray)\n",
      "    X = vectorizer.transform(rarray).tocsc()\n",
      "\n",
      "    #split data into train and test\n",
      "    Y = revs.sentiment.tolist()\n",
      "    xtrain, xtest, ytrain, ytest = train_test_split(X, Y)\n",
      "    \n",
      "    #run model\n",
      "    clf = model.fit(xtrain, ytrain)\n",
      "\n",
      "    print \"Accuracy: %0.2f%%\" % clf.score(xtest, ytest)"
     ],
     "language": "python",
     "metadata": {},
     "outputs": [],
     "prompt_number": 430
    },
    {
     "cell_type": "code",
     "collapsed": false,
     "input": [
      "pe = bin_reviews.copy()\n",
      "pe['word_list'] = pe.phrase.str.split()\n",
      "pe['contain_neg'] = map(lambda l:\"n't\" in l or \"not\" in l, pe.word_list)\n",
      "pe['word_count'] = map(len, pe.word_list)\n",
      "\n",
      "# Analyze phrase sentiment as related to the appearance of the word \"not\" \n",
      "neg_counts = pe.groupby([\"sentiment\",\"contain_neg\"]).size().to_frame(\"neg_count\").reset_index()\n",
      "print neg_counts"
     ],
     "language": "python",
     "metadata": {},
     "outputs": [
      {
       "output_type": "stream",
       "stream": "stdout",
       "text": [
        "   sentiment contain_neg  neg_count\n",
        "0          0       False      31121\n",
        "1          0        True       3224\n",
        "2          1       False      40620\n",
        "3          1        True       1513\n"
       ]
      }
     ],
     "prompt_number": 421
    },
    {
     "cell_type": "code",
     "collapsed": false,
     "input": [
      "def neg_preprocess(revs_list):\n",
      "    phrases = revs_list\n",
      "    new_phrases = []\n",
      "    for phrase in phrases:\n",
      "        parts = re.split(\"[\\s,\\.\\!\\?\\:]+\", phrase)\n",
      "        if \"n't\" in parts or \"not\" in parts:\n",
      "            if \"n't\" in parts:\n",
      "                ind = parts.index(\"n't\")\n",
      "            if \"not\" in parts:\n",
      "                ind = parts.index(\"not\")\n",
      "            temp = []\n",
      "            for p in parts:\n",
      "                if parts.index(p) <= ind:\n",
      "                    temp.append(p)\n",
      "                elif parts.index(p) > ind and p != '':\n",
      "                    temp.append(\"NOT_\" + p)\n",
      "            new_phrases.append(' '.join(temp))\n",
      "        else:\n",
      "            new_phrases.append(phrase)\n",
      "    return new_phrases"
     ],
     "language": "python",
     "metadata": {},
     "outputs": [],
     "prompt_number": 425
    },
    {
     "cell_type": "code",
     "collapsed": false,
     "input": [
      "neg_reviews = bin_reviews.copy()\n",
      "lst = neg_reviews['phrase'].tolist()\n",
      "neg_reviews = neg_reviews.drop(['phrase'], axis = 1)"
     ],
     "language": "python",
     "metadata": {},
     "outputs": [],
     "prompt_number": 426
    },
    {
     "cell_type": "code",
     "collapsed": false,
     "input": [
      "def ultimate_neg(rev_list, sent_list):\n",
      "    phrs = rev_list\n",
      "    sents = sent_list\n",
      "    new_phrs = []\n",
      "    new_sents = []\n",
      "    for phr, sen in zip(phrs, sents):\n",
      "        prts = re.split(\"[\\s,\\.\\!\\?\\:]+\", phr)\n",
      "        if \"n't\" in prts or \"not\" in prts:\n",
      "            new_phrs.append(phr)\n",
      "            new_sents.append(0)\n",
      "        else:\n",
      "            new_phrs.append(phr)\n",
      "            new_sents.append(sen)\n",
      "    return new_phrs, new_sents"
     ],
     "language": "python",
     "metadata": {},
     "outputs": [],
     "prompt_number": 427
    },
    {
     "cell_type": "code",
     "collapsed": false,
     "input": [
      "neg_neg = bin_reviews.copy()\n",
      "neg_l = neg_neg.phrase.tolist()\n",
      "neg_s = neg_neg.sentiment.tolist()\n",
      "neg_neg = neg_neg.drop(['phrase'], axis = 1)\n",
      "neg_neg = neg_neg.drop(['sentiment'], axis = 1)"
     ],
     "language": "python",
     "metadata": {},
     "outputs": [],
     "prompt_number": 428
    },
    {
     "cell_type": "code",
     "collapsed": false,
     "input": [
      "neglist, negsent = ultimate_neg(neg_l,neg_s)\n",
      "neg_neg['phrase'] = neglist\n",
      "neg_neg['sentiment'] = negsent\n",
      "reviews_and_model(neg_neg, LogisticRegression(C = 10))"
     ],
     "language": "python",
     "metadata": {},
     "outputs": [
      {
       "output_type": "stream",
       "stream": "stdout",
       "text": [
        "Accuracy: 0.91%\n"
       ]
      }
     ],
     "prompt_number": 431
    },
    {
     "cell_type": "markdown",
     "metadata": {},
     "source": [
      "####FINAL ANALYSIS####\n",
      "\n",
      "From this exploration of Sentiment Analysis techniques, we learned about some of the challenges of Natural Language Processing. Words are features, but those features don't capture by themselves the subtleties of sentence structure, part of speech, and context.\n",
      "For example, one of the shortcomings of our models is that they use a Bag of Words approach, which doesn't take some of those subtleties into account; each word is a distinct feature.\n",
      "\n",
      "We tried to combat those limitations by manipulating the data in different ways, namely: \n",
      "- We accounted, albeit in naive ways, for the presence of negation within sentences. \n",
      "- We used a stop words list to filter out some of the noise created by the presence of \"filler\" words such as articles and prepositions, in an effort to more easily extract the essence of sentiment contained in each phrase.\n",
      "- We tried using n-grams, which are additional features fed to the model based on aggregating series of n words into single features, in order to give our models a certain notion of context.\n",
      "This last attempt gave us the idea to code certain heuristics into our models. For example, looking at the proportion of \"negative\" predictions in the subset of our binarized dataset containing negation, we realized that hard-coding systematic \"negative\" classification in certain cases could yield a strategic gain in accuracy, which it did.\n",
      "\n",
      "Because the dataset was very imbalanced in terms of class distribution, we decided to create a subset of our original set, in which each class would have a randomly chosen number of phrases equal to the number of phrases in the minority class, thereby artificially creating a perfectly balanced dataset.\n",
      "On the whole, additionally to our initial dataset, we experimented with 3 other datasets optimized in different ways.\n",
      "\n",
      "Using cross-validation to find optimal parameter settings, heuristic functions and optimized data, we managed to push our accuracy to 65% on the 5-class dataset, which is over three times higher than random expectation, and to a surprising 91% on the binarized-sentiment dataset.\n",
      "The model that performed the best on both the 5-class and binarized datasets was Logistic Regression, which slighlty outperformed the Naive Bayes classifier.\n",
      "Looking for reasons explaining that discrepency, we realized that a Bayesian approach relies on the idea that features are conditionally independent. This is clearly not fully the case with the datasets we used, which despite the fact that the NB classifier still yielded very good results, probably affected its performance.\n",
      "                                 \n",
      "Further improvements could be made in the form of: \n",
      "- more sophisticated parsing of sentences that would take into account the actual syntactical and semantical structures of the text.\n",
      "- the inclusion in our models of more complex and precise heuristics\n",
      "- Ensemble methods. After visualizing the ways in which our models mispredict data, we realized that since their strengths and weaknesses in terms of class prediction were the same, there would be little value to using ensemble methods, which are predicated upon the idea of exploiting the alliance of different strengths and confidence levels across models.\n",
      "However, with more sophisticated models, it is very possible that such discrepencies would start to reveal themselves and make more appealing the use of Ensemble methods."
     ]
    },
    {
     "cell_type": "markdown",
     "metadata": {},
     "source": [
      "###References and Sources###\n",
      "\n",
      "http://fjavieralba.com/basic-sentiment-analysis-with-python.html\n",
      "\n",
      "\n",
      "http://www.kaggle.com/c/sentiment-analysis-on-movie-reviews\n",
      "\n",
      "\n",
      "http://nbviewer.ipython.org/github/cs109/content/blob/master/HW3_solutions.ipynb"
     ]
    },
    {
     "cell_type": "code",
     "collapsed": false,
     "input": [],
     "language": "python",
     "metadata": {},
     "outputs": []
    }
   ],
   "metadata": {}
  }
 ]
}