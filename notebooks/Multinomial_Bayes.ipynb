{
 "metadata": {
  "name": "",
  "signature": "sha256:202f199a10fe7a9a6521b0f01c77b0616ddefb7a7734d45c15f65897727327cc"
 },
 "nbformat": 3,
 "nbformat_minor": 0,
 "worksheets": [
  {
   "cells": [
    {
     "cell_type": "code",
     "collapsed": false,
     "input": [
      "# special IPython command to prepare the notebook for matplotlib\n",
      "%matplotlib inline \n",
      "%load_ext autoreload\n",
      "%autoreload 2\n",
      "\n",
      "# load required modules\n",
      "import requests \n",
      "import StringIO\n",
      "import zipfile\n",
      "import numpy as np\n",
      "import pandas as pd \n",
      "import matplotlib.pyplot as plt \n",
      "import datetime as dt \n",
      "import random\n",
      "import collections\n",
      "import re\n",
      "import seaborn as sns\n",
      "\n",
      "from matplotlib import rcParams\n",
      "\n",
      "#these colors come from colorbrewer2.org. Each is an RGB triplet\n",
      "dark2_colors = [(0.10588235294117647, 0.6196078431372549, 0.4666666666666667),\n",
      "                (0.8509803921568627, 0.37254901960784315, 0.00784313725490196),\n",
      "                (0.4588235294117647, 0.4392156862745098, 0.7019607843137254),\n",
      "                (0.9058823529411765, 0.1607843137254902, 0.5411764705882353),\n",
      "                (0.4, 0.6509803921568628, 0.11764705882352941),\n",
      "                (0.9019607843137255, 0.6705882352941176, 0.00784313725490196),\n",
      "                (0.6509803921568628, 0.4627450980392157, 0.11372549019607843),\n",
      "                (0.4, 0.4, 0.4)]\n",
      "\n",
      "rcParams['figure.figsize'] = (10, 6)\n",
      "rcParams['figure.dpi'] = 150\n",
      "rcParams['axes.color_cycle'] = dark2_colors\n",
      "rcParams['lines.linewidth'] = 2\n",
      "rcParams['axes.grid'] = False\n",
      "rcParams['axes.facecolor'] = 'white'\n",
      "rcParams['font.size'] = 14\n",
      "rcParams['patch.edgecolor'] = 'none'\n",
      "\n",
      "\n",
      "def remove_border(axes=None, top=False, right=False, left=True, bottom=True):\n",
      "    \"\"\"\n",
      "    Minimize chartjunk by stripping out unnecesary plot borders and axis ticks\n",
      "    \n",
      "    The top/right/left/bottom keywords toggle whether the corresponding plot border is drawn\n",
      "    \"\"\"\n",
      "    ax = axes or plt.gca()\n",
      "    ax.spines['top'].set_visible(top)\n",
      "    ax.spines['right'].set_visible(right)\n",
      "    ax.spines['left'].set_visible(left)\n",
      "    ax.spines['bottom'].set_visible(bottom)\n",
      "    \n",
      "    #turn off all ticks\n",
      "    ax.yaxis.set_ticks_position('none')\n",
      "    ax.xaxis.set_ticks_position('none')\n",
      "    \n",
      "    #now re-enable visibles\n",
      "    if top:\n",
      "        ax.xaxis.tick_top()\n",
      "    if bottom:\n",
      "        ax.xaxis.tick_bottom()\n",
      "    if left:\n",
      "        ax.yaxis.tick_left()\n",
      "    if right:\n",
      "        ax.yaxis.tick_right()\n",
      "\n",
      "# load custom modules\n",
      "import imp\n",
      "source_path = '../sentiment/'\n",
      "core = imp.load_source('core', source_path + 'core.py')\n",
      "bow = imp.load_source('bow', source_path + 'bow.py')\n",
      "bayes = imp.load_source('bayes', source_path + 'bayes.py')\n",
      "None"
     ],
     "language": "python",
     "metadata": {},
     "outputs": [
      {
       "output_type": "stream",
       "stream": "stdout",
       "text": [
        "The autoreload extension is already loaded. To reload it, use:\n",
        "  %reload_ext autoreload\n"
       ]
      }
     ],
     "prompt_number": 43
    },
    {
     "cell_type": "code",
     "collapsed": false,
     "input": [
      "reviews = core.load_reviews('../resources/train.tsv')\n",
      "rarray = reviews.phrase.tolist()\n",
      "print rarray[0:10]"
     ],
     "language": "python",
     "metadata": {},
     "outputs": [
      {
       "output_type": "stream",
       "stream": "stdout",
       "text": [
        "['a series of escapades demonstrating the adage that what is good for the goose is also good for the gander , some of which occasionally amuses but none of which amounts to much of a story .', 'a series of escapades demonstrating the adage that what is good for the goose', 'a series', 'a', 'series', 'of escapades demonstrating the adage that what is good for the goose', 'of', 'escapades demonstrating the adage that what is good for the goose', 'escapades', 'demonstrating the adage that what is good for the goose']\n"
       ]
      }
     ],
     "prompt_number": 2
    },
    {
     "cell_type": "code",
     "collapsed": false,
     "input": [
      "from sklearn.feature_extraction.text import CountVectorizer\n",
      "vectorizer = CountVectorizer(min_df=0.00, binary=True)\n",
      "vectorizer.fit(rarray)\n",
      "X = vectorizer.transform(rarray).tocsc()"
     ],
     "language": "python",
     "metadata": {},
     "outputs": [
      {
       "output_type": "stream",
       "stream": "stdout",
       "text": [
        "\n",
        "Words for each feature:\n"
       ]
      }
     ],
     "prompt_number": 3
    },
    {
     "cell_type": "code",
     "collapsed": false,
     "input": [],
     "language": "python",
     "metadata": {},
     "outputs": [],
     "prompt_number": 3
    },
    {
     "cell_type": "code",
     "collapsed": false,
     "input": [
      "from sklearn.cross_validation import train_test_split\n",
      "from sklearn.naive_bayes import MultinomialNB\n",
      "from sklearn.naive_bayes import BernoulliNB\n",
      "\n",
      "Y = reviews.sentiment.tolist()\n",
      "\n",
      "xtrain, xtest, ytrain, ytest = train_test_split(X, Y)\n",
      "ensemble = bow.Ensemble([MultinomialNB(), BernoulliNB()])"
     ],
     "language": "python",
     "metadata": {},
     "outputs": [],
     "prompt_number": 4
    },
    {
     "cell_type": "code",
     "collapsed": false,
     "input": [
      "ensemble.fit(xtrain, ytrain)"
     ],
     "language": "python",
     "metadata": {},
     "outputs": [],
     "prompt_number": 6
    },
    {
     "cell_type": "code",
     "collapsed": false,
     "input": [
      "Y_pred = ensemble.predict(xtest)"
     ],
     "language": "python",
     "metadata": {},
     "outputs": [
      {
       "ename": "IndexError",
       "evalue": "tuple index out of range",
       "output_type": "pyerr",
       "traceback": [
        "\u001b[0;31m---------------------------------------------------------------------------\u001b[0m\n\u001b[0;31mIndexError\u001b[0m                                Traceback (most recent call last)",
        "\u001b[0;32m<ipython-input-7-f505548fc904>\u001b[0m in \u001b[0;36m<module>\u001b[0;34m()\u001b[0m\n\u001b[0;32m----> 1\u001b[0;31m \u001b[0mY_pred\u001b[0m \u001b[0;34m=\u001b[0m \u001b[0mensemble\u001b[0m\u001b[0;34m.\u001b[0m\u001b[0mpredict\u001b[0m\u001b[0;34m(\u001b[0m\u001b[0mxtest\u001b[0m\u001b[0;34m)\u001b[0m\u001b[0;34m\u001b[0m\u001b[0m\n\u001b[0m",
        "\u001b[0;32m/Users/imksmith/School/CS109/Project/sentiment/sentiment/bow.py\u001b[0m in \u001b[0;36mpredict\u001b[0;34m(self, X)\u001b[0m\n\u001b[1;32m    106\u001b[0m         \u001b[0;31m# associated confidence.\u001b[0m\u001b[0;34m\u001b[0m\u001b[0;34m\u001b[0m\u001b[0m\n\u001b[1;32m    107\u001b[0m         \u001b[0;32mfor\u001b[0m \u001b[0mix\u001b[0m \u001b[0;32min\u001b[0m \u001b[0mixs\u001b[0m\u001b[0;34m:\u001b[0m\u001b[0;34m\u001b[0m\u001b[0m\n\u001b[0;32m--> 108\u001b[0;31m             \u001b[0mhy_pred\u001b[0m\u001b[0;34m[\u001b[0m\u001b[0mix\u001b[0m\u001b[0;34m]\u001b[0m \u001b[0;34m=\u001b[0m \u001b[0mm1p\u001b[0m\u001b[0;34m[\u001b[0m\u001b[0mix\u001b[0m\u001b[0;34m]\u001b[0m \u001b[0;32mif\u001b[0m \u001b[0mm1prob\u001b[0m\u001b[0;34m[\u001b[0m\u001b[0mix\u001b[0m\u001b[0;34m,\u001b[0m \u001b[0mm1p\u001b[0m\u001b[0;34m[\u001b[0m\u001b[0mix\u001b[0m\u001b[0;34m]\u001b[0m\u001b[0;34m]\u001b[0m \u001b[0;34m>\u001b[0m \u001b[0mm2prob\u001b[0m\u001b[0;34m[\u001b[0m\u001b[0mix\u001b[0m\u001b[0;34m,\u001b[0m \u001b[0mm2p\u001b[0m\u001b[0;34m[\u001b[0m\u001b[0mix\u001b[0m\u001b[0;34m]\u001b[0m\u001b[0;34m]\u001b[0m \u001b[0;32melse\u001b[0m \u001b[0mm2p\u001b[0m\u001b[0;34m[\u001b[0m\u001b[0mix\u001b[0m\u001b[0;34m]\u001b[0m\u001b[0;34m\u001b[0m\u001b[0m\n\u001b[0m\u001b[1;32m    109\u001b[0m \u001b[0;34m\u001b[0m\u001b[0m\n\u001b[1;32m    110\u001b[0m         \u001b[0;32mreturn\u001b[0m \u001b[0mhy_pred\u001b[0m\u001b[0;34m\u001b[0m\u001b[0m\n",
        "\u001b[0;31mIndexError\u001b[0m: tuple index out of range"
       ]
      }
     ],
     "prompt_number": 7
    },
    {
     "cell_type": "code",
     "collapsed": false,
     "input": [
      "print X.shape\n",
      "from sklearn.naive_bayes import BernoulliNB\n",
      "\n",
      "bernoulli = BernoulliNB(binarize=0.0).fit(xtrain, ytrain)\n",
      "print \"Accuracy: %0.2f%%\" % bernoulli.score(xtest,ytest)"
     ],
     "language": "python",
     "metadata": {},
     "outputs": [
      {
       "output_type": "stream",
       "stream": "stdout",
       "text": [
        "(156060, 15240)\n"
       ]
      }
     ],
     "prompt_number": 21
    },
    {
     "cell_type": "code",
     "collapsed": false,
     "input": [
      "# rr = np.argsort(clf.coef_[0])\n",
      "# print rr[-10:]\n",
      "# print clf.coef_[0][856]\n",
      "\n",
      "# feat_names = vectorizer.get_feature_names()\n",
      "\n",
      "# for c in range(5):\n",
      "#     print \"Feature (rating)\", c\n",
      "#     rr = np.argsort(clf.coef_[c])\n",
      "#     for i in rr[-10:]:\n",
      "#         print clf.coef_[c][i], feat_names[i]\n",
      "\n",
      "#     for i in rr[:10]:\n",
      "#         print clf.coef_[c][i], feat_names[i]\n",
      "        \n",
      "    \n",
      "# 856  8791  6785  7229 13503  7217 13681  9227   625 13505\n",
      "# print vectorizer.get_feature_names()[856]\n",
      "# print vectorizer.get_feature_names()[8791]\n",
      "# print vectorizer.get_feature_names()[6785]\n",
      "# 856  8791  6785  7229 13503  7217 13681  9227   625 13505\n",
      "\n",
      "words = np.array(vectorizer.get_feature_names())\n",
      "\n",
      "x = np.eye(xtest.shape[1])\n",
      "probs = clf.predict_log_proba(x)[:, 0]\n",
      "ind = np.argsort(probs)\n",
      "\n",
      "good_words = words[ind[:20]]\n",
      "bad_words = words[ind[-20:]]\n",
      "\n",
      "good_prob = probs[ind[:20]]\n",
      "bad_prob = probs[ind[-20:]]\n",
      "\n",
      "\n",
      "\n",
      "print \"Good words\\t     P(fresh | word)\"\n",
      "for w, p in zip(good_words, good_prob):\n",
      "    print \"%20s\" % w, \"%0.2f\" % (1 - np.exp(p))\n",
      "    \n",
      "print \"Bad words\\t     P(fresh | word)\"\n",
      "for w, p in zip(bad_words, bad_prob):\n",
      "    print \"%20s\" % w, \"%0.2f\" % (1 - np.exp(p))\n"
     ],
     "language": "python",
     "metadata": {},
     "outputs": [
      {
       "output_type": "stream",
       "stream": "stdout",
       "text": [
        "Good words\t     P(fresh | word)\n",
        "               study 1.00\n",
        "            portrait 1.00\n",
        "            powerful 1.00\n",
        "           different 1.00\n",
        "           beautiful 1.00\n",
        "                rich 1.00\n",
        "               solid 1.00\n",
        "                 eye 1.00\n",
        "              beauty 1.00\n",
        "              robert 1.00\n",
        "             america 1.00\n",
        "             culture 1.00\n",
        "        contemporary 1.00\n",
        "             process 1.00\n",
        "                wild 1.00\n",
        "               girls 1.00\n",
        "        relationship 1.00\n",
        "         beautifully 1.00\n",
        "              wanted 1.00\n",
        "               dream 1.00\n",
        "Bad words\t     P(fresh | word)\n",
        "         unappealing 0.56\n",
        "       indescribably 0.55\n",
        "         baaaaaaaaad 0.54\n",
        "           zzzzzzzzz 0.54\n",
        "          incoherent 0.54\n",
        "               hurry 0.54\n",
        "            negative 0.53\n",
        "             earthly 0.53\n",
        "              puddle 0.53\n",
        "              phoney 0.53\n",
        "          disgusting 0.53\n",
        "            elephant 0.51\n",
        "               stoop 0.51\n",
        "              insult 0.50\n",
        "              stinks 0.50\n",
        "             pretend 0.47\n",
        "                turd 0.47\n",
        "      disappointment 0.46\n",
        "          afterwards 0.44\n",
        "         unwatchable 0.43\n"
       ]
      }
     ],
     "prompt_number": 25
    },
    {
     "cell_type": "code",
     "collapsed": false,
     "input": [
      "# from sklearn.naive_bayes import GaussianNB\n",
      "\n",
      "# gaus = GaussianNB().fit(xtrain.toarray(), ytrain)\n",
      "# print \"Accuracy: %0.2f%%\" % gaus.score(xtest.toarray(),ytest)\n",
      "print len(words)\n",
      "print list(words).index('the')\n",
      "print list(words).index('')"
     ],
     "language": "python",
     "metadata": {},
     "outputs": [
      {
       "output_type": "stream",
       "stream": "stdout",
       "text": [
        "15240\n",
        "13505\n"
       ]
      },
      {
       "ename": "ValueError",
       "evalue": "'' is not in list",
       "output_type": "pyerr",
       "traceback": [
        "\u001b[0;31m---------------------------------------------------------------------------\u001b[0m\n\u001b[0;31mValueError\u001b[0m                                Traceback (most recent call last)",
        "\u001b[0;32m<ipython-input-41-2969dbb815e9>\u001b[0m in \u001b[0;36m<module>\u001b[0;34m()\u001b[0m\n\u001b[1;32m      5\u001b[0m \u001b[0;32mprint\u001b[0m \u001b[0mlen\u001b[0m\u001b[0;34m(\u001b[0m\u001b[0mwords\u001b[0m\u001b[0;34m)\u001b[0m\u001b[0;34m\u001b[0m\u001b[0m\n\u001b[1;32m      6\u001b[0m \u001b[0;32mprint\u001b[0m \u001b[0mlist\u001b[0m\u001b[0;34m(\u001b[0m\u001b[0mwords\u001b[0m\u001b[0;34m)\u001b[0m\u001b[0;34m.\u001b[0m\u001b[0mindex\u001b[0m\u001b[0;34m(\u001b[0m\u001b[0;34m'the'\u001b[0m\u001b[0;34m)\u001b[0m\u001b[0;34m\u001b[0m\u001b[0m\n\u001b[0;32m----> 7\u001b[0;31m \u001b[0;32mprint\u001b[0m \u001b[0mlist\u001b[0m\u001b[0;34m(\u001b[0m\u001b[0mwords\u001b[0m\u001b[0;34m)\u001b[0m\u001b[0;34m.\u001b[0m\u001b[0mindex\u001b[0m\u001b[0;34m(\u001b[0m\u001b[0;34m''\u001b[0m\u001b[0;34m)\u001b[0m\u001b[0;34m\u001b[0m\u001b[0m\n\u001b[0m",
        "\u001b[0;31mValueError\u001b[0m: '' is not in list"
       ]
      }
     ],
     "prompt_number": 41
    },
    {
     "cell_type": "code",
     "collapsed": false,
     "input": [
      "import scipy\n",
      "\n",
      "prob = clf.predict_proba(xtest)[:]\n",
      "predict = clf.predict(xtest)"
     ],
     "language": "python",
     "metadata": {},
     "outputs": [],
     "prompt_number": 42
    },
    {
     "cell_type": "code",
     "collapsed": false,
     "input": [
      "# print prob\n",
      "# print predict\n",
      "# bad_0 = np.argsort(prob[ytest == 0])[:10]\n",
      "# bad_rotten = np.argsort(prob[Y == 4])[:5]\n",
      "# bad_rotten = np.argsort(prob[Y == 3])[:5]\n",
      "# bad_rotten = np.argsort(prob[Y == 2])[:5]\n",
      "# bad_fresh = np.argsort(prob[Y == 1])[-5:]\n",
      "# print prob[ytest==0]\n",
      "# print \"Mis-predicted Rotten quotes\"\n",
      "# print '---------------------------'\n",
      "# for row in bad_rotten:\n",
      "#     print critics[Y == 0].quote.irow(row)\n",
      "#     print\n",
      "\n",
      "# print \"Mis-predicted Fresh quotes\"\n",
      "# print '--------------------------'\n",
      "# for row in bad_fresh:\n",
      "#     print critics[Y == 1].quote.irow(row)\n",
      "#     print\n",
      "print ytest\n",
      "print predict\n",
      "df = pd.DataFrame(data=np.transpose([ytest, predict, [1]*len(predict)]), columns=['expected','predicted', 'counts'])\n",
      "grouped = df.groupby([\"predicted\", \"expected\"]).count().reset_index()\n",
      "\n",
      "\n",
      "plt.figure(figsize=(12,8))\n",
      "plt.title(\"Predicted vs. Expected Sentiment Values\")\n",
      "plt.ylabel(\"Predicted Sentiment\")\n",
      "plt.xlabel(\"Expected Sentiment\")\n",
      "plt.scatter(x=grouped.expected,y=grouped.predicted,s=[0.1*c for c in grouped.counts], alpha=0.6)\n",
      "\n",
      "\n",
      "# df.groupby([\"predicted\", \"expected\"]).count().reset_index()\n",
      "\n",
      "# res_dfa = pd.DataFrame(data=np.transpose([Y_alt, Y_test.tolist(), [1]*len(Y)]), columns=[\"predicted\", \"expected\", \"counts\"])\n",
      "# res_statsa = res_dfa.groupby([\"predicted\", \"expected\"]).count().reset_index()\n",
      "\n",
      "# print res_stats\n",
      "# print \"Accuracy: \", sum(res_stats[res_stats.predicted == res_stats.expected].counts) / float(sum(res_stats.counts))\n",
      "# print \"Accuracy (Mapped): \", sum(res_statsa[res_statsa.predicted == res_statsa.expected].counts) / float(sum(res_statsa.counts))\n",
      "\n",
      "# plt.figure(figsize=(12,8))\n",
      "# plt.title(\"Predicted vs. Expected Sentiment Values\")\n",
      "# plt.ylabel(\"Predicted Sentiment\")\n",
      "# plt.xlabel(\"Expected Sentiment\")\n",
      "# plt.scatter(res_stats.expected, res_stats.predicted, s=[0.1*c for c in res_stats.counts], alpha=0.6)\n",
      "# plt.show()"
     ],
     "language": "python",
     "metadata": {},
     "outputs": [
      {
       "output_type": "stream",
       "stream": "stdout",
       "text": [
        "[2 3 2 ..., 3 1 2]\n",
        "[3 3 2 ..., 2 1 2]\n"
       ]
      },
      {
       "metadata": {},
       "output_type": "pyout",
       "prompt_number": 53,
       "text": [
        "<matplotlib.collections.PathCollection at 0x10de58150>"
       ]
      },
      {
       "metadata": {},
       "output_type": "display_data",
       "png": "[encoded data removed]",
       "text": [
        "<matplotlib.figure.Figure at 0x10dc66650>"
       ]
      }
     ],
     "prompt_number": 53
    },
    {
     "cell_type": "code",
     "collapsed": false,
     "input": [
      "bad_caty_ix = map(lambda x: x[0],filter(lambda t: t[1], map(lambda x,y,i: (i, x != y), ytest, predict, range(len(predict)))))\n",
      "print bad_caty_ix[:20]\n",
      "bbad_caty_ix = map(lambda x: x[0],filter(lambda t: t[1], map(lambda x,y,i: (i, x != y), ytest, bpredict, range(len(bpredict)))))\n",
      "print bbad_caty_ix[:20]\n",
      "\n",
      "isect = np.intersect1d(bad_caty_ix, bbad_caty_ix)\n",
      "print len(isect)\n",
      "print len(bad_caty_ix)\n",
      "print len(bbad_caty_ix)\n",
      "print 8.0/160"
     ],
     "language": "python",
     "metadata": {},
     "outputs": [
      {
       "output_type": "stream",
       "stream": "stdout",
       "text": [
        "[0, 3, 4, 5, 7, 10, 12, 14, 23, 24, 26, 27, 29, 31, 33, 36, 38, 41, 45, 48]\n",
        "[1, 3, 5, 7, 10, 12, 14, 19, 21, 22, 23, 24, 26, 27, 29, 31, 32, 36, 37, 40]\n",
        "10906"
       ]
      },
      {
       "output_type": "stream",
       "stream": "stdout",
       "text": [
        "\n",
        "15249\n",
        "15883\n",
        "0.05\n"
       ]
      }
     ],
     "prompt_number": 77
    },
    {
     "cell_type": "code",
     "collapsed": false,
     "input": [
      "bprob = bernoulli.predict_proba(xtest)[:]\n",
      "print bprob[0]\n",
      "print prob[0]"
     ],
     "language": "python",
     "metadata": {},
     "outputs": [
      {
       "output_type": "stream",
       "stream": "stdout",
       "text": [
        "[  9.73327217e-05   9.21313825e-03   8.18845826e-01   1.67345656e-01\n",
        "   4.49804663e-03]\n",
        "[ 0.01039653  0.03846631  0.40355434  0.42779384  0.11978898]\n"
       ]
      }
     ],
     "prompt_number": 79
    },
    {
     "cell_type": "code",
     "collapsed": false,
     "input": [
      "print \"\\tP\\t(p)\\tE\\t(p)\\t\"\n",
      "for i in [0,1,19,22]:\n",
      "    print \"M\\t%d\\t%.2f\\t%d\\t%.2f\\t\" % (predict[i], prob[i, predict[i]], ytest[i], prob[i, ytest[i]])\n",
      "    print \"B\\t%d\\t%.2f\\t%d\\t%.2f\\t\" % (bpredict[i], bprob[i, bpredict[i]], ytest[i], bprob[i, ytest[i]])\n",
      "    print\n"
     ],
     "language": "python",
     "metadata": {},
     "outputs": [
      {
       "output_type": "stream",
       "stream": "stdout",
       "text": [
        "\tP\t(p)\tE\t(p)\t\n",
        "M\t3\t0.43\t2\t0.40\t\n",
        "B\t2\t0.82\t2\t0.82\t\n",
        "\n",
        "M\t3\t0.46\t3\t0.46\t\n",
        "B\t2\t0.81\t3\t0.16\t\n",
        "\n",
        "M\t3\t0.40\t3\t0.40\t\n",
        "B\t2\t0.80\t3\t0.17\t\n",
        "\n",
        "M\t0\t0.73\t0\t0.73\t\n",
        "B\t2\t0.65\t0\t0.03\t\n",
        "\n"
       ]
      }
     ],
     "prompt_number": 83
    },
    {
     "cell_type": "code",
     "collapsed": false,
     "input": [
      "from sklearn.naive_bayes import BernoulliNB\n",
      "\n",
      "bernoulli = BernoulliNB().fit(xtrain, ytrain)\n",
      "print \"Accuracy: %0.2f%%\" % bernoulli.score(xtest,ytest)\n",
      "\n"
     ],
     "language": "python",
     "metadata": {},
     "outputs": [
      {
       "output_type": "stream",
       "stream": "stdout",
       "text": [
        "Accuracy: 0.59%\n"
       ]
      }
     ],
     "prompt_number": 54
    },
    {
     "cell_type": "code",
     "collapsed": false,
     "input": [],
     "language": "python",
     "metadata": {},
     "outputs": []
    },
    {
     "cell_type": "code",
     "collapsed": false,
     "input": [
      "bpredict = bernoulli.predict(xtest)\n",
      "bf = pd.DataFrame(data=np.transpose([ytest, bpredict, [1]*len(bpredict)]), columns=['expected','predicted', 'counts'])\n",
      "grouped = bf.groupby([\"predicted\", \"expected\"]).count().reset_index()\n",
      "\n",
      "\n",
      "plt.figure(figsize=(12,8))\n",
      "plt.title(\"Predicted vs. Expected Sentiment Values\")\n",
      "plt.ylabel(\"Predicted Sentiment\")\n",
      "plt.xlabel(\"Expected Sentiment\")\n",
      "plt.scatter(x=grouped.expected,y=grouped.predicted,s=[0.1*c for c in grouped.counts], alpha=0.6)\n"
     ],
     "language": "python",
     "metadata": {},
     "outputs": [
      {
       "metadata": {},
       "output_type": "pyout",
       "prompt_number": 55,
       "text": [
        "<matplotlib.collections.PathCollection at 0x10f7cad90>"
       ]
      },
      {
       "metadata": {},
       "output_type": "display_data",
       "png": "[encoded data removed]",
       "text": [
        "<matplotlib.figure.Figure at 0x10d6d0950>"
       ]
      }
     ],
     "prompt_number": 55
    },
    {
     "cell_type": "code",
     "collapsed": false,
     "input": [
      "from sklearn.linear_model import LogisticRegression\n",
      "# lr = LogisticRegression(class_weight = {0:3, 1:2, 2:1, 3:2, 4:3}).fit(xtrain, ytrain) # 64.68\n",
      "lr = LogisticRegression(class_weight = {0:1, 1:3, 2:10, 3:4, 4:2}).fit(xtrain, ytrain) # {0:2.5, 1:2, 2:1, 3:2, 4:2} = 64.84\n",
      "# lr = LogisticRegression().fit(xtrain, ytrain)\n",
      "sc = lr.score(xtest, ytest)\n",
      "print sc"
     ],
     "language": "python",
     "metadata": {},
     "outputs": [
      {
       "output_type": "stream",
       "stream": "stdout",
       "text": [
        "0.612764321415\n"
       ]
      }
     ],
     "prompt_number": 26
    },
    {
     "cell_type": "code",
     "collapsed": false,
     "input": [
      "import itertools\n",
      "from nltk.collocations import BigramCollocationFinder\n",
      "from nltk.metrics import BigramAssocMeasures\n",
      " \n",
      "def bigram_word_feats(words, score_fn=BigramAssocMeasures.chi_sq, n=200):\n",
      "    bigram_finder = BigramCollocationFinder.from_words(words)\n",
      "    bigrams = bigram_finder.nbest(score_fn, n)\n",
      "    return dict([(ngram, True) for ngram in itertools.chain(words, bigrams)])\n",
      " \n",
      "evaluate_classifier(bigram_word_feats)"
     ],
     "language": "python",
     "metadata": {},
     "outputs": []
    },
    {
     "cell_type": "code",
     "collapsed": false,
     "input": [
      "import nltk \n",
      "from nltk.collocations import *\n",
      "\n",
      "bigram_measures = nltk.collocations.BigramAssocMeasures()\n",
      "trigram_measures = nltk.collocations.TrigramAssocMeasures()\n",
      "finder = BigramCollocationFinder.from_words(nltk.corpus.genesis.words('english-web.txt'))\n",
      "finder.nbest(bigram_measures.pmi, 10)  "
     ],
     "language": "python",
     "metadata": {},
     "outputs": [
      {
       "metadata": {},
       "output_type": "pyout",
       "prompt_number": 28,
       "text": [
        "[(u'Allon', u'Bacuth'),\n",
        " (u'Ashteroth', u'Karnaim'),\n",
        " (u'Ben', u'Ammi'),\n",
        " (u'En', u'Mishpat'),\n",
        " (u'Jegar', u'Sahadutha'),\n",
        " (u'Salt', u'Sea'),\n",
        " (u'Whoever', u'sheds'),\n",
        " (u'appoint', u'overseers'),\n",
        " (u'aromatic', u'resin'),\n",
        " (u'cutting', u'instrument')]"
       ]
      }
     ],
     "prompt_number": 28
    },
    {
     "cell_type": "code",
     "collapsed": false,
     "input": [
      "gen = nltk.corpus.genesis.words('english-web.txt')\n",
      "len(gen)\n",
      "print type(gen)\n",
      "print gen[:30]"
     ],
     "language": "python",
     "metadata": {},
     "outputs": [
      {
       "output_type": "stream",
       "stream": "stdout",
       "text": [
        "<class 'nltk.corpus.reader.util.StreamBackedCorpusView'>\n",
        "[u'In', u'the', u'beginning', u'God', u'created', u'the', u'heavens', u'and', u'the', u'earth', u'.', u'Now', u'the', u'earth', u'was', u'formless', u'and', u'empty', u'.', u'Darkness', u'was', u'on', u'the', u'surface', u'of', u'the', u'deep', u'.', u'God', u\"'\"]\n"
       ]
      }
     ],
     "prompt_number": 33
    },
    {
     "cell_type": "code",
     "collapsed": false,
     "input": [
      "bigram_vectorizer = CountVectorizer(ngram_range=(1, 3), token_pattern=r'\\b\\w+\\b', min_df=1, binary=True)\n",
      "bigram_vectorizer.fit(rarray)\n",
      "X2 = bigram_vectorizer.transform(rarray).tocsc()"
     ],
     "language": "python",
     "metadata": {},
     "outputs": [],
     "prompt_number": 38
    },
    {
     "cell_type": "code",
     "collapsed": false,
     "input": [
      "Y = reviews.sentiment.tolist()\n",
      "xtrain, xtest, ytrain, ytest = train_test_split(X2, Y)\n",
      "lr = LogisticRegression(C=2.4).fit(xtrain, ytrain)\n",
      "s = lr.score(xtest, ytest)\n",
      "print s"
     ],
     "language": "python",
     "metadata": {},
     "outputs": [
      {
       "output_type": "stream",
       "stream": "stdout",
       "text": [
        "0.656362937332\n"
       ]
      }
     ],
     "prompt_number": 39
    },
    {
     "cell_type": "code",
     "collapsed": false,
     "input": [
      "train_sc = lr.score(xtrain, ytrain)\n",
      "print sc"
     ],
     "language": "python",
     "metadata": {},
     "outputs": [
      {
       "output_type": "stream",
       "stream": "stdout",
       "text": [
        "0.612764321415\n"
       ]
      }
     ],
     "prompt_number": 41
    },
    {
     "cell_type": "code",
     "collapsed": false,
     "input": [
      "# Sentence coherence\n",
      "pe.head()\n",
      "# s_coherence = pe.groupby(['sentenceid', 'sentiment']).count()\n",
      "ss = pe.groupby(['sentenceid', 'sentiment']).apply(lambda x: x.shape[0])\n",
      "# print s_coherence.head()\n",
      "print ss.to_frame('counts')\n",
      "# print type(ss)"
     ],
     "language": "python",
     "metadata": {},
     "outputs": []
    },
    {
     "cell_type": "markdown",
     "metadata": {},
     "source": [
      "\n",
      "Our first model will be based on the Bag Of Words approach. One challenge particular to our project that will likely be present in all of the models we develop, is that we are trying to classify reviews on an integer scale from 0 to 4, not just as \"positive\" or \"negative\".\n",
      "Since corpora are typically graded binarily as described above and also depending on context, we will have to develop our own dictionary.\n",
      "Also, since our scale is more granular, a simple BoW approach whereby we vectorize phrases based on word count will not work.\n",
      "\n",
      "Our first try with this method will consist of building a dictionary of single words with their associated rating from 0 to 4.\n",
      "We will use both the training dataset provided by Kaggle as well as the training dataset used by the Stanford team, also from Rotten Tomatoes reviews but different ones.\n",
      "When confronted to a new review, our model will add up the values of the grades of the words present in its dictionary, and compute the mean (try geometric mean?) of the total value for that phrase.\n",
      "\n",
      "One problem we will run into is that some phrases in the test dataset or in any review not present in our two training datasets might contain words not in our dictionary, or even not have any words present in our dictionary.\n",
      "For now, we will assign a random rating to phrases for which we have no rated words whatsoever, and just compute the mean of the words we have in our dictionary for sentences in which we don't have all the words in our dictionary.\n"
     ]
    }
   ],
   "metadata": {}
  }
 ]
}