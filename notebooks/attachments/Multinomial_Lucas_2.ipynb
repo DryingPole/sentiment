{
 "metadata": {
  "name": "",
  "signature": "sha256:11b9bbf7a746741dfe96832917df162f3826db0da59b1ff7e1b0029fe854e487"
 },
 "nbformat": 3,
 "nbformat_minor": 0,
 "worksheets": [
  {
   "cells": [
    {
     "cell_type": "code",
     "collapsed": false,
     "input": [
      "# special IPython command to prepare the notebook for matplotlib\n",
      "%matplotlib inline \n",
      "# %load_ext autoreload\n",
      "# %autoreload 2\n",
      "\n",
      "# load required modules\n",
      "import requests \n",
      "import StringIO\n",
      "import zipfile\n",
      "import numpy as np\n",
      "import pandas as pd \n",
      "import matplotlib.pyplot as plt \n",
      "import collections\n",
      "import seaborn as sns\n",
      "import re\n",
      "import scipy\n",
      "\n",
      "from sklearn.feature_extraction.text import CountVectorizer\n",
      "\n",
      "import sklearn\n",
      "import sklearn.datasets\n",
      "import sklearn.cross_validation\n",
      "import sklearn.decomposition\n",
      "import sklearn.grid_search\n",
      "import sklearn.neighbors\n",
      "import sklearn.metrics\n",
      "from sklearn.cross_validation import train_test_split\n",
      "from sklearn.naive_bayes import MultinomialNB\n",
      "from sklearn.linear_model import LogisticRegression\n",
      "from sklearn.svm import LinearSVC\n",
      "from sklearn.feature_extraction.text import CountVectorizer\n",
      "from sklearn.cross_validation import cross_val_score\n",
      "from sklearn.naive_bayes import BernoulliNB\n",
      "\n",
      "from nltk.corpus import stopwords\n",
      "\n",
      "# load custom modules\n",
      "import imp\n",
      "source_path = '../sentiment/'\n",
      "core = imp.load_source('core', source_path + 'core.py')\n",
      "bow = imp.load_source('bow', source_path + 'bow.py')\n",
      "bayes = imp.load_source('bayes', source_path + 'bayes.py')\n",
      "ADASYN = imp.load_source('ADASYN', '/Users/barbaramaclaurin/Desktop/adasyn/ADASYN.py')\n",
      "None"
     ],
     "language": "python",
     "metadata": {},
     "outputs": [],
     "prompt_number": 2
    },
    {
     "cell_type": "code",
     "collapsed": false,
     "input": [
      "# main dataset\n",
      "reviews = core.load_reviews('../resources/train.tsv')\n",
      "rarr = reviews.phrase.tolist() \n",
      "\n",
      "#apply stop words list to dataset\n",
      "stop = stopwords.words('english')\n",
      "#remove punctuation and split into seperate words\n",
      "words = [re.findall(r'\\w+', x, flags = re.UNICODE | re.LOCALE) for x in rarr]\n",
      "#turn back into strings\n",
      "str_words = [' '.join(s) for s in words]\n",
      "\n",
      "#recreate list of phrases without stop words\n",
      "new_phrases = []\n",
      "for sentence in str_words:\n",
      "    temp_words = [(i for i in sentence.split() if i not in stop)]\n",
      "    for s in temp_words:\n",
      "        new_phrases.append(' '.join(s))\n",
      "        \n",
      "#remove empty phrases and adjust Y \n",
      "sen = reviews.sentiment.tolist()\n",
      "stopped_phrases, stopped_Y = zip(* [(s, t) for s, t in zip(new_phrases, sen) if s != '']) "
     ],
     "language": "python",
     "metadata": {},
     "outputs": [],
     "prompt_number": 8
    },
    {
     "cell_type": "code",
     "collapsed": false,
     "input": [
      "#create stopped reviews dataframe\n",
      "stop_reviews = pd.DataFrame()\n",
      "stop_reviews['phrase'] = stopped_phrases\n",
      "stop_reviews['sentiment'] = stopped_Y"
     ],
     "language": "python",
     "metadata": {},
     "outputs": [],
     "prompt_number": 22
    },
    {
     "cell_type": "code",
     "collapsed": false,
     "input": [
      "#create balanced dataset whereby each class has the same number of randomly chosen reviews as the minority class\n",
      "zeroes = reviews[reviews.sentiment == 0]\n",
      "ones = reviews[reviews.sentiment == 1]\n",
      "twos = reviews[reviews.sentiment == 2]\n",
      "threes = reviews[reviews.sentiment == 3]\n",
      "fours = reviews[reviews.sentiment == 4]\n",
      "#randomly choose 7072 reviews in each class other than 0\n",
      "ones_samples = ones.loc[np.random.choice(ones.index, 7072, replace=False)]\n",
      "twos_samples = twos.loc[np.random.choice(twos.index, 7072, replace=False)]\n",
      "threes_samples = threes.loc[np.random.choice(threes.index, 7072, replace=False)]\n",
      "fours_samples = fours.loc[np.random.choice(fours.index, 7072, replace=False)]\n",
      "#create DF\n",
      "bal_reviews = pd.concat([zeroes, ones_samples, twos_samples, threes_samples, fours_samples])"
     ],
     "language": "python",
     "metadata": {},
     "outputs": [],
     "prompt_number": 18
    },
    {
     "cell_type": "code",
     "collapsed": false,
     "input": [
      "#create dataset of binarized sentiments to positive and negative.\n",
      "bin_reviews = reviews[(reviews.sentiment != 2)]\n",
      "sents = bin_reviews.sentiment.tolist()\n",
      "\n",
      "bin_sents = []\n",
      "for i in sents:\n",
      "    if (i == 1) | (i == 0):\n",
      "        bin_sents.append(0)\n",
      "    else:\n",
      "        bin_sents.append(1)\n",
      "        \n",
      "#create DF of binary sentiments\n",
      "bin_reviews = bin_reviews.drop(['sentiment'], axis = 1)\n",
      "bin_reviews['sentiment'] = bin_sents"
     ],
     "language": "python",
     "metadata": {},
     "outputs": [],
     "prompt_number": 21
    },
    {
     "cell_type": "code",
     "collapsed": false,
     "input": [
      "# check all datasets size\n",
      "print len(reviews)\n",
      "print len(stop_reviews)\n",
      "print len(bal_reviews)\n",
      "print len(bin_reviews)"
     ],
     "language": "python",
     "metadata": {},
     "outputs": [
      {
       "output_type": "stream",
       "stream": "stdout",
       "text": [
        "156060\n",
        "154946\n",
        "35360\n",
        "76478\n"
       ]
      }
     ],
     "prompt_number": 26
    },
    {
     "cell_type": "code",
     "collapsed": false,
     "input": [
      "'''\n",
      "Function\n",
      "--------\n",
      "Prepare specific dataset and run specific model on it.\n",
      "Vectorizes and splits data into train and test sets, then fits data to the model decided upon and prints out \n",
      "accuracy scores.\n",
      "\n",
      "Parameters\n",
      "----------\n",
      "revs: reviews dataframe. The original \"reviews\" set, the \"stop_reviews\" set, the \"bal_reviews\" dataset, \n",
      "or the \"bin_reviews\" dataset\n",
      "model: 'Bayes', 'Logistic' or 'SVC'\n",
      "\n",
      "Returns\n",
      "-------\n",
      "prints out accuracy score \n",
      "'''\n",
      "\n",
      "def reviews_and_model(revs, model):\n",
      "    #vectorize dataset\n",
      "    rarray = revs.phrase.tolist()\n",
      "    vectorizer = CountVectorizer(min_df=0.00, binary=True)\n",
      "    vectorizer.fit(rarray)\n",
      "    X = vectorizer.transform(rarray).tocsc()\n",
      "\n",
      "    #split data into train and test\n",
      "    Y = revs.sentiment.tolist()\n",
      "    xtrain, xtest, ytrain, ytest = train_test_split(X, Y)\n",
      "    \n",
      "    #run model\n",
      "    clf = model.fit(xtrain, ytrain)\n",
      "\n",
      "    print \"Accuracy: %0.2f%%\" % clf.score(xtest, ytest)"
     ],
     "language": "python",
     "metadata": {},
     "outputs": [],
     "prompt_number": 42
    },
    {
     "cell_type": "code",
     "collapsed": false,
     "input": [
      "reviews_and_model(reviews, MultinomialNB())"
     ],
     "language": "python",
     "metadata": {},
     "outputs": [
      {
       "output_type": "stream",
       "stream": "stdout",
       "text": [
        "Accuracy: 0.61%\n"
       ]
      }
     ],
     "prompt_number": 29
    },
    {
     "cell_type": "code",
     "collapsed": false,
     "input": [
      "reviews_and_model(reviews,\"Logistic\")"
     ],
     "language": "python",
     "metadata": {},
     "outputs": [
      {
       "output_type": "stream",
       "stream": "stdout",
       "text": [
        "Accuracy: 0.64%\n"
       ]
      }
     ],
     "prompt_number": 30
    },
    {
     "cell_type": "code",
     "collapsed": false,
     "input": [
      "reviews_and_model(reviews,\"SVC\")"
     ],
     "language": "python",
     "metadata": {},
     "outputs": [
      {
       "output_type": "stream",
       "stream": "stdout",
       "text": [
        "Accuracy: 0.64%\n"
       ]
      }
     ],
     "prompt_number": 31
    },
    {
     "cell_type": "code",
     "collapsed": false,
     "input": [
      "reviews_and_model(stop_reviews,\"Bayes\")"
     ],
     "language": "python",
     "metadata": {},
     "outputs": [
      {
       "output_type": "stream",
       "stream": "stdout",
       "text": [
        "Accuracy: 0.60%\n"
       ]
      }
     ],
     "prompt_number": 32
    },
    {
     "cell_type": "code",
     "collapsed": false,
     "input": [
      "reviews_and_model(stop_reviews, \"Logistic\")"
     ],
     "language": "python",
     "metadata": {},
     "outputs": [
      {
       "output_type": "stream",
       "stream": "stdout",
       "text": [
        "Accuracy: 0.63%\n"
       ]
      }
     ],
     "prompt_number": 34
    },
    {
     "cell_type": "code",
     "collapsed": false,
     "input": [
      "reviews_and_model(stop_reviews,\"SVC\")"
     ],
     "language": "python",
     "metadata": {},
     "outputs": [
      {
       "output_type": "stream",
       "stream": "stdout",
       "text": [
        "Accuracy: 0.63%\n"
       ]
      }
     ],
     "prompt_number": 35
    },
    {
     "cell_type": "code",
     "collapsed": false,
     "input": [
      "reviews_and_model(bal_reviews,\"Bayes\")"
     ],
     "language": "python",
     "metadata": {},
     "outputs": [
      {
       "output_type": "stream",
       "stream": "stdout",
       "text": [
        "Accuracy: 0.47%\n"
       ]
      }
     ],
     "prompt_number": 36
    },
    {
     "cell_type": "code",
     "collapsed": false,
     "input": [
      "reviews_and_model(bal_reviews,\"Logistic\")"
     ],
     "language": "python",
     "metadata": {},
     "outputs": [
      {
       "output_type": "stream",
       "stream": "stdout",
       "text": [
        "Accuracy: 0.55%\n"
       ]
      }
     ],
     "prompt_number": 37
    },
    {
     "cell_type": "code",
     "collapsed": false,
     "input": [
      "reviews_and_model(bal_reviews,\"SVC\")"
     ],
     "language": "python",
     "metadata": {},
     "outputs": [
      {
       "output_type": "stream",
       "stream": "stdout",
       "text": [
        "Accuracy: 0.53%\n"
       ]
      }
     ],
     "prompt_number": 38
    },
    {
     "cell_type": "code",
     "collapsed": false,
     "input": [
      "reviews_and_model(bin_reviews,\"Bayes\")"
     ],
     "language": "python",
     "metadata": {},
     "outputs": [
      {
       "output_type": "stream",
       "stream": "stdout",
       "text": [
        "Accuracy: 0.87%\n"
       ]
      }
     ],
     "prompt_number": 39
    },
    {
     "cell_type": "code",
     "collapsed": false,
     "input": [
      "reviews_and_model(bin_reviews, LogisticRegression(C=10))"
     ],
     "language": "python",
     "metadata": {},
     "outputs": [
      {
       "output_type": "stream",
       "stream": "stdout",
       "text": [
        "Accuracy: 0.90%\n"
       ]
      }
     ],
     "prompt_number": 44
    },
    {
     "cell_type": "code",
     "collapsed": false,
     "input": [
      "reviews_and_model(bin_reviews,\"SVC\")"
     ],
     "language": "python",
     "metadata": {},
     "outputs": [
      {
       "output_type": "stream",
       "stream": "stdout",
       "text": [
        "Accuracy: 0.89%\n"
       ]
      }
     ],
     "prompt_number": 41
    },
    {
     "cell_type": "code",
     "collapsed": false,
     "input": [],
     "language": "python",
     "metadata": {},
     "outputs": [],
     "prompt_number": 0
    },
    {
     "cell_type": "code",
     "collapsed": false,
     "input": [],
     "language": "python",
     "metadata": {},
     "outputs": [],
     "prompt_number": 0
    },
    {
     "cell_type": "code",
     "collapsed": false,
     "input": [],
     "language": "python",
     "metadata": {},
     "outputs": []
    }
   ],
   "metadata": {}
  }
 ]
}